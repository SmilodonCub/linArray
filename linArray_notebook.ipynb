{
 "cells": [
  {
   "cell_type": "markdown",
   "metadata": {},
   "source": [
    "<br>\n",
    "\n",
    "# EDA Linear Array\n",
    "\n",
    "<br>"
   ]
  },
  {
   "cell_type": "markdown",
   "metadata": {},
   "source": [
    "## environmental\n",
    "\n",
    "<br>"
   ]
  },
  {
   "cell_type": "code",
   "execution_count": 1,
   "metadata": {},
   "outputs": [],
   "source": [
    "#load methods\n",
    "from scipy.io import loadmat\n",
    "import pandas as pd\n",
    "import numpy as np\n",
    "import matplotlib.pyplot as plt\n",
    "import seaborn as sns\n",
    "from scipy import signal"
   ]
  },
  {
   "cell_type": "code",
   "execution_count": 2,
   "metadata": {},
   "outputs": [],
   "source": [
    "#load .mat into python environment\n",
    "linArrayPath = \"/home/bonzilla/Documents/smilodonCub_fossils/MATLAB/linArrayWorkspace.mat\"\n",
    "linArrayMat = loadmat( linArrayPath )"
   ]
  },
  {
   "cell_type": "code",
   "execution_count": 3,
   "metadata": {},
   "outputs": [
    {
     "name": "stdout",
     "output_type": "stream",
     "text": [
      "<class 'dict'>\n"
     ]
    },
    {
     "data": {
      "text/plain": [
       "dict_keys(['__header__', '__version__', '__globals__', 'FP09', 'FP09_ind', 'FP09_ts', 'FP09_ts_step', 'FP10', 'FP10_ind', 'FP10_ts', 'FP10_ts_step', 'FP11', 'FP11_ind', 'FP11_ts', 'FP11_ts_step', 'FP12', 'FP12_ind', 'FP12_ts', 'FP12_ts_step', 'FP13', 'FP13_ind', 'FP13_ts', 'FP13_ts_step', 'FP14', 'FP14_ind', 'FP14_ts', 'FP14_ts_step', 'FP15', 'FP15_ind', 'FP15_ts', 'FP15_ts_step', 'FP16', 'FP16_ind', 'FP16_ts', 'FP16_ts_step', 'SPK09a', 'SPK09i', 'SPK10a', 'SPK10i', 'SPK11a', 'SPK11i', 'SPK12i', 'SPK13a', 'SPK13i', 'SPK14a', 'SPK14i', 'SPK15a', 'SPK15i', 'SPK16a', 'SPK16i', 'Start', 'Stop', 'Strobed00001', 'Strobed00003', 'Strobed00005', 'Strobed00006', 'Strobed00007', 'Strobed00009', 'Strobed00010', 'Strobed00013', 'Strobed00014', 'Strobed00016', 'Strobed00017', 'Strobed00018', 'Strobed00030', 'Strobed00040', 'Strobed00041', 'Strobed00043', 'Strobed00046', 'Strobed00050', 'Strobed00100', 'Strobed00102', 'Strobed00131', 'Strobed00161', 'Strobed00235', 'Strobed00360', 'Strobed00400', 'Strobed00555', 'Strobed00666', 'Strobed00830', 'Strobed01000', 'Strobed01618', 'Strobed01808', 'Strobed02000', 'Strobed02018', 'Strobed05555', 'allnames_LFP', 'ans', 'catSearchPHYSIOLIntervals', 'delayedSacc180RFInt', 'delayedSaccIntervals', 'exp_LFP', 'exp_SPK', 'exp_spk', 'fromNeuroExplorer', 'iLFP', 'iSPK', 'iSpike', 'idx_LFP', 'idx_SPK', 'idx_spk', 'names_LFP', 'names_SPK', 'names_spk', 'numLFP', 'numSPK', 'numSpike', 'numspk', 'plxDataIntervals', 'splitLFP_allnames', 'these_Spikes', 'this_LFP', 'this_SPK', 'this_ind', 'this_ts', 'this_ts_step', 'tsEXP', 'variableNames'])"
      ]
     },
     "execution_count": 3,
     "metadata": {},
     "output_type": "execute_result"
    }
   ],
   "source": [
    "print( type( linArrayMat ) )\n",
    "linArrayMat.keys()"
   ]
  },
  {
   "cell_type": "markdown",
   "metadata": {},
   "source": [
    "<br>\n",
    "\n",
    "## reshape mat struct\n",
    "\n",
    "reshape the imported matlab structure tosomethng more pythonic  \n",
    "the matlab struct for the linear array is imported by `loadmat()` as a python dictionary. to facilitate further analysis, we will massage the data into a more workable form as a pandas dataframe...\n",
    "\n",
    "<br>"
   ]
  },
  {
   "cell_type": "markdown",
   "metadata": {},
   "source": [
    "### understand the dictionary fields\n",
    "\n",
    "<br>"
   ]
  },
  {
   "cell_type": "code",
   "execution_count": 4,
   "metadata": {},
   "outputs": [
    {
     "data": {
      "text/html": [
       "<div>\n",
       "<style scoped>\n",
       "    .dataframe tbody tr th:only-of-type {\n",
       "        vertical-align: middle;\n",
       "    }\n",
       "\n",
       "    .dataframe tbody tr th {\n",
       "        vertical-align: top;\n",
       "    }\n",
       "\n",
       "    .dataframe thead th {\n",
       "        text-align: right;\n",
       "    }\n",
       "</style>\n",
       "<table border=\"1\" class=\"dataframe\">\n",
       "  <thead>\n",
       "    <tr style=\"text-align: right;\">\n",
       "      <th></th>\n",
       "      <th>start</th>\n",
       "      <th>end</th>\n",
       "    </tr>\n",
       "  </thead>\n",
       "  <tbody>\n",
       "    <tr>\n",
       "      <th>0</th>\n",
       "      <td>0.000</td>\n",
       "      <td>21.2835</td>\n",
       "    </tr>\n",
       "    <tr>\n",
       "      <th>1</th>\n",
       "      <td>21.832</td>\n",
       "      <td>24.9940</td>\n",
       "    </tr>\n",
       "    <tr>\n",
       "      <th>2</th>\n",
       "      <td>25.436</td>\n",
       "      <td>28.7080</td>\n",
       "    </tr>\n",
       "    <tr>\n",
       "      <th>3</th>\n",
       "      <td>29.250</td>\n",
       "      <td>32.3125</td>\n",
       "    </tr>\n",
       "    <tr>\n",
       "      <th>4</th>\n",
       "      <td>32.854</td>\n",
       "      <td>36.1360</td>\n",
       "    </tr>\n",
       "  </tbody>\n",
       "</table>\n",
       "</div>"
      ],
      "text/plain": [
       "    start      end\n",
       "0   0.000  21.2835\n",
       "1  21.832  24.9940\n",
       "2  25.436  28.7080\n",
       "3  29.250  32.3125\n",
       "4  32.854  36.1360"
      ]
     },
     "execution_count": 4,
     "metadata": {},
     "output_type": "execute_result"
    }
   ],
   "source": [
    "# the delayedSaccIntervals field\n",
    "delayedSaccade_dat = linArrayMat[ 'delayedSaccIntervals' ]\n",
    "delayedSaccade_DF = pd.DataFrame( data = delayedSaccade_dat, columns = [ 'start','end' ] )\n",
    "delayedSaccade_DF.head()"
   ]
  },
  {
   "cell_type": "code",
   "execution_count": 5,
   "metadata": {},
   "outputs": [
    {
     "data": {
      "text/html": [
       "<div>\n",
       "<style scoped>\n",
       "    .dataframe tbody tr th:only-of-type {\n",
       "        vertical-align: middle;\n",
       "    }\n",
       "\n",
       "    .dataframe tbody tr th {\n",
       "        vertical-align: top;\n",
       "    }\n",
       "\n",
       "    .dataframe thead th {\n",
       "        text-align: right;\n",
       "    }\n",
       "</style>\n",
       "<table border=\"1\" class=\"dataframe\">\n",
       "  <thead>\n",
       "    <tr style=\"text-align: right;\">\n",
       "      <th></th>\n",
       "      <th>start</th>\n",
       "      <th>end</th>\n",
       "    </tr>\n",
       "  </thead>\n",
       "  <tbody>\n",
       "    <tr>\n",
       "      <th>0</th>\n",
       "      <td>362.9720</td>\n",
       "      <td>366.9035</td>\n",
       "    </tr>\n",
       "    <tr>\n",
       "      <th>1</th>\n",
       "      <td>367.4555</td>\n",
       "      <td>370.5080</td>\n",
       "    </tr>\n",
       "    <tr>\n",
       "      <th>2</th>\n",
       "      <td>371.0595</td>\n",
       "      <td>374.5520</td>\n",
       "    </tr>\n",
       "    <tr>\n",
       "      <th>3</th>\n",
       "      <td>375.0975</td>\n",
       "      <td>378.5905</td>\n",
       "    </tr>\n",
       "    <tr>\n",
       "      <th>4</th>\n",
       "      <td>379.1320</td>\n",
       "      <td>383.3935</td>\n",
       "    </tr>\n",
       "  </tbody>\n",
       "</table>\n",
       "</div>"
      ],
      "text/plain": [
       "      start       end\n",
       "0  362.9720  366.9035\n",
       "1  367.4555  370.5080\n",
       "2  371.0595  374.5520\n",
       "3  375.0975  378.5905\n",
       "4  379.1320  383.3935"
      ]
     },
     "execution_count": 5,
     "metadata": {},
     "output_type": "execute_result"
    }
   ],
   "source": [
    "# the catSearchPHYSIOLIntervals feld\n",
    "catSearchPHYSIOL_dat = linArrayMat[ 'catSearchPHYSIOLIntervals' ]\n",
    "catSearchPHYSIOL_DF = pd.DataFrame( data = catSearchPHYSIOL_dat, columns = [ 'start','end' ] )\n",
    "catSearchPHYSIOL_DF.head()"
   ]
  },
  {
   "cell_type": "code",
   "execution_count": 6,
   "metadata": {},
   "outputs": [
    {
     "name": "stdout",
     "output_type": "stream",
     "text": [
      "18737\n",
      "[[0.064 ]\n",
      " [0.19  ]\n",
      " [0.2495]\n",
      " [0.5405]\n",
      " [0.5545]\n",
      " [0.582 ]\n",
      " [0.634 ]\n",
      " [0.7025]\n",
      " [1.082 ]\n",
      " [1.3005]]\n"
     ]
    }
   ],
   "source": [
    "# spiking data for channel 9\n",
    "spike09_dat = linArrayMat[ 'SPK09a' ]\n",
    "print( len( spike09_dat ) )\n",
    "print( spike09_dat[0:10], )"
   ]
  },
  {
   "cell_type": "code",
   "execution_count": 7,
   "metadata": {},
   "outputs": [
    {
     "name": "stdout",
     "output_type": "stream",
     "text": [
      "980450\n",
      "[[ 0.00288222]\n",
      " [-0.0024075 ]\n",
      " [-0.00837538]\n",
      " [-0.00613742]\n",
      " [-0.00891791]\n",
      " [-0.01322428]\n",
      " [-0.01698812]\n",
      " [-0.01946343]\n",
      " [-0.02088759]\n",
      " [-0.02034505]]\n"
     ]
    }
   ],
   "source": [
    "# field potnetial data for channel 9\n",
    "FP09_dat = linArrayMat[ 'FP09' ]\n",
    "print( len( FP09_dat ) )\n",
    "print( FP09_dat[0:10] )"
   ]
  },
  {
   "cell_type": "code",
   "execution_count": 8,
   "metadata": {},
   "outputs": [
    {
     "name": "stdout",
     "output_type": "stream",
     "text": [
      "15\n"
     ]
    },
    {
     "data": {
      "text/html": [
       "<div>\n",
       "<style scoped>\n",
       "    .dataframe tbody tr th:only-of-type {\n",
       "        vertical-align: middle;\n",
       "    }\n",
       "\n",
       "    .dataframe tbody tr th {\n",
       "        vertical-align: top;\n",
       "    }\n",
       "\n",
       "    .dataframe thead th {\n",
       "        text-align: right;\n",
       "    }\n",
       "</style>\n",
       "<table border=\"1\" class=\"dataframe\">\n",
       "  <thead>\n",
       "    <tr style=\"text-align: right;\">\n",
       "      <th></th>\n",
       "      <th>channels</th>\n",
       "    </tr>\n",
       "  </thead>\n",
       "  <tbody>\n",
       "    <tr>\n",
       "      <th>35</th>\n",
       "      <td>SPK09a</td>\n",
       "    </tr>\n",
       "    <tr>\n",
       "      <th>36</th>\n",
       "      <td>SPK09i</td>\n",
       "    </tr>\n",
       "    <tr>\n",
       "      <th>37</th>\n",
       "      <td>SPK10a</td>\n",
       "    </tr>\n",
       "    <tr>\n",
       "      <th>38</th>\n",
       "      <td>SPK10i</td>\n",
       "    </tr>\n",
       "    <tr>\n",
       "      <th>39</th>\n",
       "      <td>SPK11a</td>\n",
       "    </tr>\n",
       "  </tbody>\n",
       "</table>\n",
       "</div>"
      ],
      "text/plain": [
       "   channels\n",
       "35   SPK09a\n",
       "36   SPK09i\n",
       "37   SPK10a\n",
       "38   SPK10i\n",
       "39   SPK11a"
      ]
     },
     "execution_count": 8,
     "metadata": {},
     "output_type": "execute_result"
    }
   ],
   "source": [
    "# a dataframe that holds columns names for all channels with spike data    \n",
    "allKeys = pd.DataFrame( linArrayMat.keys(), columns = [ 'channels' ] )\n",
    "spikeKeys_IDX = allKeys['channels'].str.startswith( 'SPK' )\n",
    "spikeKeys = allKeys[ spikeKeys_IDX ]\n",
    "print( len( spikeKeys ) )\n",
    "spikeKeys.head()"
   ]
  },
  {
   "cell_type": "code",
   "execution_count": 9,
   "metadata": {},
   "outputs": [],
   "source": [
    "# some helper functions to help format the linear array dictionary\n",
    "def getStartEndTimestanps( array_DF, task ):\n",
    "    \"\"\"\n",
    "    return the trial start and end timestamps for a task\n",
    "    \"\"\"\n",
    "    task_dat = array_DF[ task ]\n",
    "    task_DF = pd.DataFrame( data = task_dat, \n",
    "                           columns = [ 'start','end' ] )\n",
    "    return task_DF\n",
    "\n",
    "def formatStrobedEventSTR( eventmarker_int ):\n",
    "    #make a string for the strobed event column label\n",
    "    numZeros = 12 - 7 - len( str( eventmarker_int ) )\n",
    "    strobedLabel = 'Strobed' + '0'*numZeros + str( eventmarker_int )\n",
    "    return strobedLabel\n",
    "\n",
    "def getChannelTrialData( array_DF, task, channel ):\n",
    "    \"\"\"\n",
    "    generates a list for each trial within a pandas series for a specific task.\n",
    "    array_DF: pandas dataframe with array data\n",
    "    task: string for task batched data intervals\n",
    "    channel: string for a plexon channel (e.g. SPK or FP)\n",
    "    returns a pandas series of lists for trial data of a given channel\n",
    "    \"\"\"\n",
    "    # a DF of all the spike timestamps for `channel`\n",
    "    channelDat = array_DF[ channel ]\n",
    "    channelDat_DF = pd.DataFrame( data = channelDat, \n",
    "                                 columns = [ 'timestamps' ] )\n",
    "    # a DF for all the start/stop timestamps for each trial for `task`\n",
    "    task_DF = getStartEndTimestanps( array_DF, task )\n",
    "    numTrials = len( task_DF[ 'start' ] )\n",
    "    timeStampLists = pd.Series([], dtype= 'float64')\n",
    "    \n",
    "    #for each trial, get the spike timestamps inbetween the trial\n",
    "    #start/end and format as a list\n",
    "    for aTrial in range( numTrials ):\n",
    "        startTime = task_DF[ 'start' ][ aTrial ]\n",
    "        endTime = task_DF[ 'end' ][ aTrial ]\n",
    "        trialTimeStamps_IDX = channelDat_DF[ 'timestamps' ].between( startTime, endTime )\n",
    "        trialTimeStamps = channelDat_DF[ trialTimeStamps_IDX ]\n",
    "        listoflists_TS = trialTimeStamps.values.tolist()  \n",
    "        timeStampLists[ aTrial ] = [item for sublist in listoflists_TS for item in sublist]\n",
    "    # return a pandas.core.series.Series where each field is a list\n",
    "    # of spike timestamps for each trial of task for a given channel\n",
    "    return timeStampLists\n",
    "\n",
    "def getDataTypeNames( array_DF, neuralDatType ):\n",
    "    \"\"\"\n",
    "    returns a pandas dataframe with a feature of strings, one for each \n",
    "    plexon channel to be collected on\n",
    "    array_DF: pandas dataframe with array data\n",
    "    neuralDatType: (string) either 'SPK' or 'FP'. error is thrown for other values\n",
    "    \"\"\"\n",
    "    allKeys = pd.DataFrame( array_DF.keys(), columns = [ 'channels' ] )\n",
    "    typeKeys_IDX = allKeys['channels'].str.startswith( neuralDatType )\n",
    "    dataTypeNames = allKeys[ typeKeys_IDX ]\n",
    "    return dataTypeNames\n",
    "\n",
    "\n",
    "def getMultiChannelTrialData( array_DF, dataType, task ):\n",
    "    \"\"\"\n",
    "    given data and a specific task, returns a dataframe with a row for each \n",
    "    trial a feature for start and end timestamps and features for each channel \n",
    "    queried. channel features hold a list of data (e.g. spikes) for each trial\n",
    "    array_DF: pandas dataframe with array data\n",
    "    dataType: (string) SPK or FP \n",
    "    plexon channel to be collected on\n",
    "    task: string for task batched data intervals\n",
    "    \"\"\"\n",
    "    selectData_df = getDataTypeNames( array_DF, dataType )\n",
    "    task_DF = getStartEndTimestanps( array_DF, task )\n",
    "\n",
    "    #for each item in channel_df:\n",
    "    for aChannel in range( len( selectData_df ) ):    \n",
    "        #getTrialTimestamps\n",
    "        channel = selectData_df[ 'channels' ].values[ aChannel ]\n",
    "        channelTrialDat = getChannelTrialData( array_DF, task, channel )\n",
    "        #print( type( channelTrialDat ) )\n",
    "        task_DF[ channel ] = channelTrialDat\n",
    "        #add as a new feature to trialDat_DF\n",
    "    return task_DF\n",
    "\n",
    "def addEventMarker( array_DF, task_DF, eventmarkers, task ):\n",
    "    \"\"\"\n",
    "    takes in array dataframe and finds the timestamps for a specified\n",
    "    eventmarker for each trial to be added as a feature column to a \n",
    "    dataframe of trial data (i.e. output from getMultiChannelTimestamps())\n",
    "    array_DF: pandas dataframe generated from a matlab structure summarizing array data\n",
    "    trialDat_DF: pandas dataframe with data by trial (output from getMultiChannelTrialData())\n",
    "    eventmarker: int, specifies which eventmarker to parse from array_DF\n",
    "    \"\"\"\n",
    "    \n",
    "    for eventmarker in eventmarkers:\n",
    "        #make a string for the strobed event column label\n",
    "        strobedLabel = formatStrobedEventSTR( eventmarker )\n",
    "\n",
    "        #check that the eventmarker is present\n",
    "        colNames = pd.DataFrame( array_DF.keys(), columns = [ 'keys' ] )\n",
    "        if colNames[ 'keys' ].str.contains( strobedLabel ).any():\n",
    "            taskEventMarkers = getChannelTrialData( array_DF, task, strobedLabel )\n",
    "        else:\n",
    "            raise Exception( 'Sorry, eventmarker not present\\nbe sure to enter \\\n",
    "                        only the integer value of the event\\nex: CORRECT: 14 \\\n",
    "                        INCORRECT: 00014, Strobed00014')\n",
    "        task_DF[ strobedLabel ] = taskEventMarkers    \n",
    "    return task_DF"
   ]
  },
  {
   "cell_type": "code",
   "execution_count": 10,
   "metadata": {},
   "outputs": [
    {
     "data": {
      "text/plain": [
       "0    [0.064, 0.19, 0.2495, 0.5405, 0.5545, 0.582, 0...\n",
       "1    [21.9155, 22.0605, 22.519, 22.8845, 22.9575, 2...\n",
       "2    [25.9435, 26.0485, 26.1345, 26.1595, 26.534, 2...\n",
       "3    [29.518, 29.954, 30.0885, 30.2455, 30.3545, 30...\n",
       "4    [32.897, 32.9765, 33.289, 33.5505, 33.6065, 33...\n",
       "dtype: object"
      ]
     },
     "execution_count": 10,
     "metadata": {},
     "output_type": "execute_result"
    }
   ],
   "source": [
    "# demonstrate getChannelTrialData()\n",
    "# generates a pandas series witha row for each trial holding a list of spike times\n",
    "SPK09a_spikedat = getChannelTrialData( linArrayMat, 'delayedSaccIntervals', 'SPK09a')\n",
    "SPK09a_spikedat[0:5]"
   ]
  },
  {
   "cell_type": "code",
   "execution_count": 11,
   "metadata": {},
   "outputs": [
    {
     "data": {
      "text/html": [
       "<div>\n",
       "<style scoped>\n",
       "    .dataframe tbody tr th:only-of-type {\n",
       "        vertical-align: middle;\n",
       "    }\n",
       "\n",
       "    .dataframe tbody tr th {\n",
       "        vertical-align: top;\n",
       "    }\n",
       "\n",
       "    .dataframe thead th {\n",
       "        text-align: right;\n",
       "    }\n",
       "</style>\n",
       "<table border=\"1\" class=\"dataframe\">\n",
       "  <thead>\n",
       "    <tr style=\"text-align: right;\">\n",
       "      <th></th>\n",
       "      <th>start</th>\n",
       "      <th>end</th>\n",
       "      <th>SPK09a</th>\n",
       "      <th>SPK09i</th>\n",
       "      <th>SPK10a</th>\n",
       "      <th>SPK10i</th>\n",
       "      <th>SPK11a</th>\n",
       "      <th>SPK11i</th>\n",
       "      <th>SPK12i</th>\n",
       "      <th>SPK13a</th>\n",
       "      <th>SPK13i</th>\n",
       "      <th>SPK14a</th>\n",
       "      <th>SPK14i</th>\n",
       "      <th>SPK15a</th>\n",
       "      <th>SPK15i</th>\n",
       "      <th>SPK16a</th>\n",
       "      <th>SPK16i</th>\n",
       "    </tr>\n",
       "  </thead>\n",
       "  <tbody>\n",
       "    <tr>\n",
       "      <th>0</th>\n",
       "      <td>0.000</td>\n",
       "      <td>21.2835</td>\n",
       "      <td>[0.064, 0.19, 0.2495, 0.5405, 0.5545, 0.582, 0...</td>\n",
       "      <td>[0.013, 0.0145, 0.1245, 0.153, 0.448, 0.848, 2...</td>\n",
       "      <td>[0.487, 1.238, 1.4395, 1.45, 1.588, 1.667, 1.9...</td>\n",
       "      <td>[5.6615, 12.6, 18.806, 18.813]</td>\n",
       "      <td>[0.003, 0.011, 0.013, 0.017, 0.019, 0.0265, 0....</td>\n",
       "      <td>[0.0235, 0.028, 0.051, 0.067, 0.0915, 0.1115, ...</td>\n",
       "      <td>[0.0005, 0.001, 0.003, 0.011, 0.0155, 0.0235, ...</td>\n",
       "      <td>[]</td>\n",
       "      <td>[0.001, 0.006, 0.009, 0.01, 0.013, 0.0145, 0.0...</td>\n",
       "      <td>[0.003, 0.0075, 0.0105, 0.019, 0.0265, 0.0325,...</td>\n",
       "      <td>[0.0025, 0.0055, 0.0365, 0.068, 0.118, 0.1815,...</td>\n",
       "      <td>[0.303, 0.347, 2.087, 2.578, 2.756, 8.532, 8.5...</td>\n",
       "      <td>[]</td>\n",
       "      <td>[0.004, 0.0065, 0.0075, 0.0365, 0.037, 0.045, ...</td>\n",
       "      <td>[]</td>\n",
       "    </tr>\n",
       "    <tr>\n",
       "      <th>1</th>\n",
       "      <td>21.832</td>\n",
       "      <td>24.9940</td>\n",
       "      <td>[21.9155, 22.0605, 22.519, 22.8845, 22.9575, 2...</td>\n",
       "      <td>[21.858, 22.4455, 22.758, 22.809, 23.343, 23.3...</td>\n",
       "      <td>[22.436, 22.438, 22.4405, 22.445, 22.448, 22.4...</td>\n",
       "      <td>[]</td>\n",
       "      <td>[21.8505, 21.8895, 21.895, 21.9085, 21.911, 21...</td>\n",
       "      <td>[21.844, 21.874, 21.9035, 21.9355, 21.961, 22....</td>\n",
       "      <td>[21.8325, 21.838, 21.841, 21.8415, 21.8435, 21...</td>\n",
       "      <td>[]</td>\n",
       "      <td>[21.867, 21.898, 21.922, 21.997, 22.2705, 22.3...</td>\n",
       "      <td>[21.844, 21.8695, 21.924, 21.9515, 21.9625, 22...</td>\n",
       "      <td>[21.8755, 22.002, 22.425, 22.4285, 22.4295, 22...</td>\n",
       "      <td>[22.478, 22.692, 22.7295, 23.142, 23.153, 23.1...</td>\n",
       "      <td>[23.009, 23.197]</td>\n",
       "      <td>[21.932, 22.0095, 22.0405, 22.089, 22.159, 22....</td>\n",
       "      <td>[]</td>\n",
       "    </tr>\n",
       "    <tr>\n",
       "      <th>2</th>\n",
       "      <td>25.436</td>\n",
       "      <td>28.7080</td>\n",
       "      <td>[25.9435, 26.0485, 26.1345, 26.1595, 26.534, 2...</td>\n",
       "      <td>[26.0355, 26.1315, 26.2155, 26.4875, 26.877, 2...</td>\n",
       "      <td>[25.5225, 25.5685, 25.9695, 26.1285, 26.1315, ...</td>\n",
       "      <td>[26.1435, 27.094, 27.097]</td>\n",
       "      <td>[25.496, 25.508, 25.5145, 25.516, 25.5195, 25....</td>\n",
       "      <td>[25.473, 25.493, 25.5355, 25.559, 25.5605, 26....</td>\n",
       "      <td>[25.4385, 25.448, 25.454, 25.4575, 25.46, 25.4...</td>\n",
       "      <td>[]</td>\n",
       "      <td>[25.493, 25.517, 25.533, 25.536, 25.537, 25.54...</td>\n",
       "      <td>[25.4475, 25.645, 25.649, 25.6595, 25.73, 25.7...</td>\n",
       "      <td>[25.503, 25.6845, 25.89, 26.0285, 26.0755, 26....</td>\n",
       "      <td>[26.3605, 26.3815, 26.5835, 26.667, 26.6855, 2...</td>\n",
       "      <td>[]</td>\n",
       "      <td>[25.6065, 25.6455, 25.6525, 25.6895, 25.7195, ...</td>\n",
       "      <td>[]</td>\n",
       "    </tr>\n",
       "    <tr>\n",
       "      <th>3</th>\n",
       "      <td>29.250</td>\n",
       "      <td>32.3125</td>\n",
       "      <td>[29.518, 29.954, 30.0885, 30.2455, 30.3545, 30...</td>\n",
       "      <td>[29.9335, 29.9395, 30.771, 30.801, 31.0955, 31...</td>\n",
       "      <td>[29.9335, 29.95, 29.9555, 30.0295, 30.1905, 30...</td>\n",
       "      <td>[]</td>\n",
       "      <td>[29.252, 29.2625, 29.27, 29.272, 29.275, 29.31...</td>\n",
       "      <td>[29.258, 29.2655, 29.274, 29.3615, 29.3645, 29...</td>\n",
       "      <td>[29.2515, 29.2525, 29.253, 29.2555, 29.258, 29...</td>\n",
       "      <td>[]</td>\n",
       "      <td>[29.252, 29.2565, 29.376, 29.4095, 29.4155, 29...</td>\n",
       "      <td>[29.252, 29.2535, 29.266, 29.3385, 29.417, 29....</td>\n",
       "      <td>[29.2505, 29.255, 29.2565, 29.2585, 29.2605, 2...</td>\n",
       "      <td>[30.2355, 30.4665, 30.4985, 30.51, 30.536, 30....</td>\n",
       "      <td>[]</td>\n",
       "      <td>[29.254, 29.26, 29.263, 29.3215, 29.3525, 29.4...</td>\n",
       "      <td>[29.9425]</td>\n",
       "    </tr>\n",
       "    <tr>\n",
       "      <th>4</th>\n",
       "      <td>32.854</td>\n",
       "      <td>36.1360</td>\n",
       "      <td>[32.897, 32.9765, 33.289, 33.5505, 33.6065, 33...</td>\n",
       "      <td>[32.9485, 33.5995, 33.7015, 33.9385, 34.5225, ...</td>\n",
       "      <td>[32.863, 32.945, 32.9635, 33.595, 33.597, 33.6...</td>\n",
       "      <td>[33.6065]</td>\n",
       "      <td>[32.8595, 32.867, 32.878, 32.8795, 32.8805, 32...</td>\n",
       "      <td>[32.8835, 32.888, 32.925, 32.9255, 32.9395, 32...</td>\n",
       "      <td>[32.8555, 32.857, 32.858, 32.859, 32.864, 32.8...</td>\n",
       "      <td>[]</td>\n",
       "      <td>[32.8735, 32.876, 32.896, 32.904, 32.9075, 32....</td>\n",
       "      <td>[32.886, 32.887, 32.896, 32.904, 32.911, 32.95...</td>\n",
       "      <td>[32.9315, 32.9405, 32.9485, 32.9875, 33.4255, ...</td>\n",
       "      <td>[33.658, 33.867, 34.013, 34.0425, 34.092, 34.2...</td>\n",
       "      <td>[]</td>\n",
       "      <td>[32.8765, 32.907, 32.9215, 32.945, 32.9875, 33...</td>\n",
       "      <td>[33.6075]</td>\n",
       "    </tr>\n",
       "  </tbody>\n",
       "</table>\n",
       "</div>"
      ],
      "text/plain": [
       "    start      end                                             SPK09a  \\\n",
       "0   0.000  21.2835  [0.064, 0.19, 0.2495, 0.5405, 0.5545, 0.582, 0...   \n",
       "1  21.832  24.9940  [21.9155, 22.0605, 22.519, 22.8845, 22.9575, 2...   \n",
       "2  25.436  28.7080  [25.9435, 26.0485, 26.1345, 26.1595, 26.534, 2...   \n",
       "3  29.250  32.3125  [29.518, 29.954, 30.0885, 30.2455, 30.3545, 30...   \n",
       "4  32.854  36.1360  [32.897, 32.9765, 33.289, 33.5505, 33.6065, 33...   \n",
       "\n",
       "                                              SPK09i  \\\n",
       "0  [0.013, 0.0145, 0.1245, 0.153, 0.448, 0.848, 2...   \n",
       "1  [21.858, 22.4455, 22.758, 22.809, 23.343, 23.3...   \n",
       "2  [26.0355, 26.1315, 26.2155, 26.4875, 26.877, 2...   \n",
       "3  [29.9335, 29.9395, 30.771, 30.801, 31.0955, 31...   \n",
       "4  [32.9485, 33.5995, 33.7015, 33.9385, 34.5225, ...   \n",
       "\n",
       "                                              SPK10a  \\\n",
       "0  [0.487, 1.238, 1.4395, 1.45, 1.588, 1.667, 1.9...   \n",
       "1  [22.436, 22.438, 22.4405, 22.445, 22.448, 22.4...   \n",
       "2  [25.5225, 25.5685, 25.9695, 26.1285, 26.1315, ...   \n",
       "3  [29.9335, 29.95, 29.9555, 30.0295, 30.1905, 30...   \n",
       "4  [32.863, 32.945, 32.9635, 33.595, 33.597, 33.6...   \n",
       "\n",
       "                           SPK10i  \\\n",
       "0  [5.6615, 12.6, 18.806, 18.813]   \n",
       "1                              []   \n",
       "2       [26.1435, 27.094, 27.097]   \n",
       "3                              []   \n",
       "4                       [33.6065]   \n",
       "\n",
       "                                              SPK11a  \\\n",
       "0  [0.003, 0.011, 0.013, 0.017, 0.019, 0.0265, 0....   \n",
       "1  [21.8505, 21.8895, 21.895, 21.9085, 21.911, 21...   \n",
       "2  [25.496, 25.508, 25.5145, 25.516, 25.5195, 25....   \n",
       "3  [29.252, 29.2625, 29.27, 29.272, 29.275, 29.31...   \n",
       "4  [32.8595, 32.867, 32.878, 32.8795, 32.8805, 32...   \n",
       "\n",
       "                                              SPK11i  \\\n",
       "0  [0.0235, 0.028, 0.051, 0.067, 0.0915, 0.1115, ...   \n",
       "1  [21.844, 21.874, 21.9035, 21.9355, 21.961, 22....   \n",
       "2  [25.473, 25.493, 25.5355, 25.559, 25.5605, 26....   \n",
       "3  [29.258, 29.2655, 29.274, 29.3615, 29.3645, 29...   \n",
       "4  [32.8835, 32.888, 32.925, 32.9255, 32.9395, 32...   \n",
       "\n",
       "                                              SPK12i SPK13a  \\\n",
       "0  [0.0005, 0.001, 0.003, 0.011, 0.0155, 0.0235, ...     []   \n",
       "1  [21.8325, 21.838, 21.841, 21.8415, 21.8435, 21...     []   \n",
       "2  [25.4385, 25.448, 25.454, 25.4575, 25.46, 25.4...     []   \n",
       "3  [29.2515, 29.2525, 29.253, 29.2555, 29.258, 29...     []   \n",
       "4  [32.8555, 32.857, 32.858, 32.859, 32.864, 32.8...     []   \n",
       "\n",
       "                                              SPK13i  \\\n",
       "0  [0.001, 0.006, 0.009, 0.01, 0.013, 0.0145, 0.0...   \n",
       "1  [21.867, 21.898, 21.922, 21.997, 22.2705, 22.3...   \n",
       "2  [25.493, 25.517, 25.533, 25.536, 25.537, 25.54...   \n",
       "3  [29.252, 29.2565, 29.376, 29.4095, 29.4155, 29...   \n",
       "4  [32.8735, 32.876, 32.896, 32.904, 32.9075, 32....   \n",
       "\n",
       "                                              SPK14a  \\\n",
       "0  [0.003, 0.0075, 0.0105, 0.019, 0.0265, 0.0325,...   \n",
       "1  [21.844, 21.8695, 21.924, 21.9515, 21.9625, 22...   \n",
       "2  [25.4475, 25.645, 25.649, 25.6595, 25.73, 25.7...   \n",
       "3  [29.252, 29.2535, 29.266, 29.3385, 29.417, 29....   \n",
       "4  [32.886, 32.887, 32.896, 32.904, 32.911, 32.95...   \n",
       "\n",
       "                                              SPK14i  \\\n",
       "0  [0.0025, 0.0055, 0.0365, 0.068, 0.118, 0.1815,...   \n",
       "1  [21.8755, 22.002, 22.425, 22.4285, 22.4295, 22...   \n",
       "2  [25.503, 25.6845, 25.89, 26.0285, 26.0755, 26....   \n",
       "3  [29.2505, 29.255, 29.2565, 29.2585, 29.2605, 2...   \n",
       "4  [32.9315, 32.9405, 32.9485, 32.9875, 33.4255, ...   \n",
       "\n",
       "                                              SPK15a            SPK15i  \\\n",
       "0  [0.303, 0.347, 2.087, 2.578, 2.756, 8.532, 8.5...                []   \n",
       "1  [22.478, 22.692, 22.7295, 23.142, 23.153, 23.1...  [23.009, 23.197]   \n",
       "2  [26.3605, 26.3815, 26.5835, 26.667, 26.6855, 2...                []   \n",
       "3  [30.2355, 30.4665, 30.4985, 30.51, 30.536, 30....                []   \n",
       "4  [33.658, 33.867, 34.013, 34.0425, 34.092, 34.2...                []   \n",
       "\n",
       "                                              SPK16a     SPK16i  \n",
       "0  [0.004, 0.0065, 0.0075, 0.0365, 0.037, 0.045, ...         []  \n",
       "1  [21.932, 22.0095, 22.0405, 22.089, 22.159, 22....         []  \n",
       "2  [25.6065, 25.6455, 25.6525, 25.6895, 25.7195, ...         []  \n",
       "3  [29.254, 29.26, 29.263, 29.3215, 29.3525, 29.4...  [29.9425]  \n",
       "4  [32.8765, 32.907, 32.9215, 32.945, 32.9875, 33...  [33.6075]  "
      ]
     },
     "execution_count": 11,
     "metadata": {},
     "output_type": "execute_result"
    }
   ],
   "source": [
    "# demonstrate getMultiChannelTrialData()\n",
    "# generates a pandas dataframe with a row for each trial, start/end features and columns for each channeldata\n",
    "dSacctrials = getMultiChannelTrialData( linArrayMat, 'SPK', 'delayedSaccIntervals' )\n",
    "dSacctrials.head()"
   ]
  },
  {
   "cell_type": "code",
   "execution_count": 12,
   "metadata": {},
   "outputs": [
    {
     "data": {
      "text/html": [
       "<div>\n",
       "<style scoped>\n",
       "    .dataframe tbody tr th:only-of-type {\n",
       "        vertical-align: middle;\n",
       "    }\n",
       "\n",
       "    .dataframe tbody tr th {\n",
       "        vertical-align: top;\n",
       "    }\n",
       "\n",
       "    .dataframe thead th {\n",
       "        text-align: right;\n",
       "    }\n",
       "</style>\n",
       "<table border=\"1\" class=\"dataframe\">\n",
       "  <thead>\n",
       "    <tr style=\"text-align: right;\">\n",
       "      <th></th>\n",
       "      <th>start</th>\n",
       "      <th>end</th>\n",
       "      <th>SPK09a</th>\n",
       "      <th>SPK09i</th>\n",
       "      <th>SPK10a</th>\n",
       "      <th>SPK10i</th>\n",
       "      <th>SPK11a</th>\n",
       "      <th>SPK11i</th>\n",
       "      <th>SPK12i</th>\n",
       "      <th>SPK13a</th>\n",
       "      <th>...</th>\n",
       "      <th>SPK15a</th>\n",
       "      <th>SPK15i</th>\n",
       "      <th>SPK16a</th>\n",
       "      <th>SPK16i</th>\n",
       "      <th>Strobed00001</th>\n",
       "      <th>Strobed00030</th>\n",
       "      <th>Strobed00040</th>\n",
       "      <th>Strobed00666</th>\n",
       "      <th>Strobed00100</th>\n",
       "      <th>Strobed02018</th>\n",
       "    </tr>\n",
       "  </thead>\n",
       "  <tbody>\n",
       "    <tr>\n",
       "      <th>0</th>\n",
       "      <td>0.000</td>\n",
       "      <td>21.2835</td>\n",
       "      <td>[0.064, 0.19, 0.2495, 0.5405, 0.5545, 0.582, 0...</td>\n",
       "      <td>[0.013, 0.0145, 0.1245, 0.153, 0.448, 0.848, 2...</td>\n",
       "      <td>[0.487, 1.238, 1.4395, 1.45, 1.588, 1.667, 1.9...</td>\n",
       "      <td>[5.6615, 12.6, 18.806, 18.813]</td>\n",
       "      <td>[0.003, 0.011, 0.013, 0.017, 0.019, 0.0265, 0....</td>\n",
       "      <td>[0.0235, 0.028, 0.051, 0.067, 0.0915, 0.1115, ...</td>\n",
       "      <td>[0.0005, 0.001, 0.003, 0.011, 0.0155, 0.0235, ...</td>\n",
       "      <td>[]</td>\n",
       "      <td>...</td>\n",
       "      <td>[0.303, 0.347, 2.087, 2.578, 2.756, 8.532, 8.5...</td>\n",
       "      <td>[]</td>\n",
       "      <td>[0.004, 0.0065, 0.0075, 0.0365, 0.037, 0.045, ...</td>\n",
       "      <td>[]</td>\n",
       "      <td>[17.961]</td>\n",
       "      <td>[18.7475]</td>\n",
       "      <td>[19.306]</td>\n",
       "      <td>[19.8995]</td>\n",
       "      <td>[20.949]</td>\n",
       "      <td>[17.8095]</td>\n",
       "    </tr>\n",
       "    <tr>\n",
       "      <th>1</th>\n",
       "      <td>21.832</td>\n",
       "      <td>24.9940</td>\n",
       "      <td>[21.9155, 22.0605, 22.519, 22.8845, 22.9575, 2...</td>\n",
       "      <td>[21.858, 22.4455, 22.758, 22.809, 23.343, 23.3...</td>\n",
       "      <td>[22.436, 22.438, 22.4405, 22.445, 22.448, 22.4...</td>\n",
       "      <td>[]</td>\n",
       "      <td>[21.8505, 21.8895, 21.895, 21.9085, 21.911, 21...</td>\n",
       "      <td>[21.844, 21.874, 21.9035, 21.9355, 21.961, 22....</td>\n",
       "      <td>[21.8325, 21.838, 21.841, 21.8415, 21.8435, 21...</td>\n",
       "      <td>[]</td>\n",
       "      <td>...</td>\n",
       "      <td>[22.478, 22.692, 22.7295, 23.142, 23.153, 23.1...</td>\n",
       "      <td>[23.009, 23.197]</td>\n",
       "      <td>[21.932, 22.0095, 22.0405, 22.089, 22.159, 22....</td>\n",
       "      <td>[]</td>\n",
       "      <td>[]</td>\n",
       "      <td>[22.3725]</td>\n",
       "      <td>[23.0395]</td>\n",
       "      <td>[23.6325]</td>\n",
       "      <td>[24.6655]</td>\n",
       "      <td>[]</td>\n",
       "    </tr>\n",
       "    <tr>\n",
       "      <th>2</th>\n",
       "      <td>25.436</td>\n",
       "      <td>28.7080</td>\n",
       "      <td>[25.9435, 26.0485, 26.1345, 26.1595, 26.534, 2...</td>\n",
       "      <td>[26.0355, 26.1315, 26.2155, 26.4875, 26.877, 2...</td>\n",
       "      <td>[25.5225, 25.5685, 25.9695, 26.1285, 26.1315, ...</td>\n",
       "      <td>[26.1435, 27.094, 27.097]</td>\n",
       "      <td>[25.496, 25.508, 25.5145, 25.516, 25.5195, 25....</td>\n",
       "      <td>[25.473, 25.493, 25.5355, 25.559, 25.5605, 26....</td>\n",
       "      <td>[25.4385, 25.448, 25.454, 25.4575, 25.46, 25.4...</td>\n",
       "      <td>[]</td>\n",
       "      <td>...</td>\n",
       "      <td>[26.3605, 26.3815, 26.5835, 26.667, 26.6855, 2...</td>\n",
       "      <td>[]</td>\n",
       "      <td>[25.6065, 25.6455, 25.6525, 25.6895, 25.7195, ...</td>\n",
       "      <td>[]</td>\n",
       "      <td>[25.4545]</td>\n",
       "      <td>[26.064]</td>\n",
       "      <td>[26.581]</td>\n",
       "      <td>[27.383]</td>\n",
       "      <td>[28.432]</td>\n",
       "      <td>[]</td>\n",
       "    </tr>\n",
       "    <tr>\n",
       "      <th>3</th>\n",
       "      <td>29.250</td>\n",
       "      <td>32.3125</td>\n",
       "      <td>[29.518, 29.954, 30.0885, 30.2455, 30.3545, 30...</td>\n",
       "      <td>[29.9335, 29.9395, 30.771, 30.801, 31.0955, 31...</td>\n",
       "      <td>[29.9335, 29.95, 29.9555, 30.0295, 30.1905, 30...</td>\n",
       "      <td>[]</td>\n",
       "      <td>[29.252, 29.2625, 29.27, 29.272, 29.275, 29.31...</td>\n",
       "      <td>[29.258, 29.2655, 29.274, 29.3615, 29.3645, 29...</td>\n",
       "      <td>[29.2515, 29.2525, 29.253, 29.2555, 29.258, 29...</td>\n",
       "      <td>[]</td>\n",
       "      <td>...</td>\n",
       "      <td>[30.2355, 30.4665, 30.4985, 30.51, 30.536, 30....</td>\n",
       "      <td>[]</td>\n",
       "      <td>[29.254, 29.26, 29.263, 29.3215, 29.3525, 29.4...</td>\n",
       "      <td>[29.9425]</td>\n",
       "      <td>[]</td>\n",
       "      <td>[29.881]</td>\n",
       "      <td>[30.3975]</td>\n",
       "      <td>[31.0155]</td>\n",
       "      <td>[32.057]</td>\n",
       "      <td>[]</td>\n",
       "    </tr>\n",
       "    <tr>\n",
       "      <th>4</th>\n",
       "      <td>32.854</td>\n",
       "      <td>36.1360</td>\n",
       "      <td>[32.897, 32.9765, 33.289, 33.5505, 33.6065, 33...</td>\n",
       "      <td>[32.9485, 33.5995, 33.7015, 33.9385, 34.5225, ...</td>\n",
       "      <td>[32.863, 32.945, 32.9635, 33.595, 33.597, 33.6...</td>\n",
       "      <td>[33.6065]</td>\n",
       "      <td>[32.8595, 32.867, 32.878, 32.8795, 32.8805, 32...</td>\n",
       "      <td>[32.8835, 32.888, 32.925, 32.9255, 32.9395, 32...</td>\n",
       "      <td>[32.8555, 32.857, 32.858, 32.859, 32.864, 32.8...</td>\n",
       "      <td>[]</td>\n",
       "      <td>...</td>\n",
       "      <td>[33.658, 33.867, 34.013, 34.0425, 34.092, 34.2...</td>\n",
       "      <td>[]</td>\n",
       "      <td>[32.8765, 32.907, 32.9215, 32.945, 32.9875, 33...</td>\n",
       "      <td>[33.6075]</td>\n",
       "      <td>[]</td>\n",
       "      <td>[33.539]</td>\n",
       "      <td>[34.2055]</td>\n",
       "      <td>[34.815]</td>\n",
       "      <td>[35.848]</td>\n",
       "      <td>[]</td>\n",
       "    </tr>\n",
       "  </tbody>\n",
       "</table>\n",
       "<p>5 rows × 23 columns</p>\n",
       "</div>"
      ],
      "text/plain": [
       "    start      end                                             SPK09a  \\\n",
       "0   0.000  21.2835  [0.064, 0.19, 0.2495, 0.5405, 0.5545, 0.582, 0...   \n",
       "1  21.832  24.9940  [21.9155, 22.0605, 22.519, 22.8845, 22.9575, 2...   \n",
       "2  25.436  28.7080  [25.9435, 26.0485, 26.1345, 26.1595, 26.534, 2...   \n",
       "3  29.250  32.3125  [29.518, 29.954, 30.0885, 30.2455, 30.3545, 30...   \n",
       "4  32.854  36.1360  [32.897, 32.9765, 33.289, 33.5505, 33.6065, 33...   \n",
       "\n",
       "                                              SPK09i  \\\n",
       "0  [0.013, 0.0145, 0.1245, 0.153, 0.448, 0.848, 2...   \n",
       "1  [21.858, 22.4455, 22.758, 22.809, 23.343, 23.3...   \n",
       "2  [26.0355, 26.1315, 26.2155, 26.4875, 26.877, 2...   \n",
       "3  [29.9335, 29.9395, 30.771, 30.801, 31.0955, 31...   \n",
       "4  [32.9485, 33.5995, 33.7015, 33.9385, 34.5225, ...   \n",
       "\n",
       "                                              SPK10a  \\\n",
       "0  [0.487, 1.238, 1.4395, 1.45, 1.588, 1.667, 1.9...   \n",
       "1  [22.436, 22.438, 22.4405, 22.445, 22.448, 22.4...   \n",
       "2  [25.5225, 25.5685, 25.9695, 26.1285, 26.1315, ...   \n",
       "3  [29.9335, 29.95, 29.9555, 30.0295, 30.1905, 30...   \n",
       "4  [32.863, 32.945, 32.9635, 33.595, 33.597, 33.6...   \n",
       "\n",
       "                           SPK10i  \\\n",
       "0  [5.6615, 12.6, 18.806, 18.813]   \n",
       "1                              []   \n",
       "2       [26.1435, 27.094, 27.097]   \n",
       "3                              []   \n",
       "4                       [33.6065]   \n",
       "\n",
       "                                              SPK11a  \\\n",
       "0  [0.003, 0.011, 0.013, 0.017, 0.019, 0.0265, 0....   \n",
       "1  [21.8505, 21.8895, 21.895, 21.9085, 21.911, 21...   \n",
       "2  [25.496, 25.508, 25.5145, 25.516, 25.5195, 25....   \n",
       "3  [29.252, 29.2625, 29.27, 29.272, 29.275, 29.31...   \n",
       "4  [32.8595, 32.867, 32.878, 32.8795, 32.8805, 32...   \n",
       "\n",
       "                                              SPK11i  \\\n",
       "0  [0.0235, 0.028, 0.051, 0.067, 0.0915, 0.1115, ...   \n",
       "1  [21.844, 21.874, 21.9035, 21.9355, 21.961, 22....   \n",
       "2  [25.473, 25.493, 25.5355, 25.559, 25.5605, 26....   \n",
       "3  [29.258, 29.2655, 29.274, 29.3615, 29.3645, 29...   \n",
       "4  [32.8835, 32.888, 32.925, 32.9255, 32.9395, 32...   \n",
       "\n",
       "                                              SPK12i SPK13a  ...  \\\n",
       "0  [0.0005, 0.001, 0.003, 0.011, 0.0155, 0.0235, ...     []  ...   \n",
       "1  [21.8325, 21.838, 21.841, 21.8415, 21.8435, 21...     []  ...   \n",
       "2  [25.4385, 25.448, 25.454, 25.4575, 25.46, 25.4...     []  ...   \n",
       "3  [29.2515, 29.2525, 29.253, 29.2555, 29.258, 29...     []  ...   \n",
       "4  [32.8555, 32.857, 32.858, 32.859, 32.864, 32.8...     []  ...   \n",
       "\n",
       "                                              SPK15a            SPK15i  \\\n",
       "0  [0.303, 0.347, 2.087, 2.578, 2.756, 8.532, 8.5...                []   \n",
       "1  [22.478, 22.692, 22.7295, 23.142, 23.153, 23.1...  [23.009, 23.197]   \n",
       "2  [26.3605, 26.3815, 26.5835, 26.667, 26.6855, 2...                []   \n",
       "3  [30.2355, 30.4665, 30.4985, 30.51, 30.536, 30....                []   \n",
       "4  [33.658, 33.867, 34.013, 34.0425, 34.092, 34.2...                []   \n",
       "\n",
       "                                              SPK16a     SPK16i Strobed00001  \\\n",
       "0  [0.004, 0.0065, 0.0075, 0.0365, 0.037, 0.045, ...         []     [17.961]   \n",
       "1  [21.932, 22.0095, 22.0405, 22.089, 22.159, 22....         []           []   \n",
       "2  [25.6065, 25.6455, 25.6525, 25.6895, 25.7195, ...         []    [25.4545]   \n",
       "3  [29.254, 29.26, 29.263, 29.3215, 29.3525, 29.4...  [29.9425]           []   \n",
       "4  [32.8765, 32.907, 32.9215, 32.945, 32.9875, 33...  [33.6075]           []   \n",
       "\n",
       "  Strobed00030 Strobed00040 Strobed00666 Strobed00100 Strobed02018  \n",
       "0    [18.7475]     [19.306]    [19.8995]     [20.949]    [17.8095]  \n",
       "1    [22.3725]    [23.0395]    [23.6325]    [24.6655]           []  \n",
       "2     [26.064]     [26.581]     [27.383]     [28.432]           []  \n",
       "3     [29.881]    [30.3975]    [31.0155]     [32.057]           []  \n",
       "4     [33.539]    [34.2055]     [34.815]     [35.848]           []  \n",
       "\n",
       "[5 rows x 23 columns]"
      ]
     },
     "execution_count": 12,
     "metadata": {},
     "output_type": "execute_result"
    }
   ],
   "source": [
    "addStrobes = dSacctrials.copy()\n",
    "addEventMarker( linArrayMat, addStrobes, [1, 30, 40, 666, 100, 2018], 'delayedSaccIntervals' )\n",
    "addStrobes.head()"
   ]
  },
  {
   "cell_type": "markdown",
   "metadata": {},
   "source": [
    "<br>\n",
    "\n",
    "### Aligning Neural Data by Stimulus Onset\n",
    "\n",
    "align the data by stimulus onset. This requires knowing the MonkeyLogic eventmarker for the stimulus onset. Can also be used for any other eventmarker \n",
    "\n",
    "<br>"
   ]
  },
  {
   "cell_type": "code",
   "execution_count": 13,
   "metadata": {},
   "outputs": [],
   "source": [
    "stimOn = 30 #define the eventmarker for stimulus onset\n",
    "\n",
    "# define a function to adjust timestamps by stimulus onset\n",
    "def addStimOnset( data_df, stimOnset_eventmarker, dataType ):\n",
    "    \"\"\"\n",
    "    returns an array with neual data adjusted for the stimulus onset time\n",
    "    data_df, stimOnset_eventmarker, dataType\n",
    "    \"\"\"\n",
    "    adjustdata_df = data_df.copy()\n",
    "    \n",
    "    #make a string for the strobed event column label\n",
    "    strobedLabel = formatStrobedEventSTR( stimOnset_eventmarker )\n",
    "    #print( strobedLabel )\n",
    "    \n",
    "    #make a list of data columns to adjust\n",
    "    columns2adjust = getDataTypeNames( data_df, dataType )\n",
    "    columns2adjust = columns2adjust.values.tolist() \n",
    "    columns2adjust = [item for sublist in columns2adjust for item in sublist]\n",
    "    \n",
    "    #for each column\n",
    "    for column in columns2adjust:\n",
    "        colname = 'stimOn_' + column\n",
    "        adjustdata_df[colname] = addStrobes.apply(lambda row: \n",
    "            list(np.round(np.subtract([e for e in row[column]], row[strobedLabel] ),4)),axis = 1)\n",
    "    return adjustdata_df"
   ]
  },
  {
   "cell_type": "code",
   "execution_count": 14,
   "metadata": {},
   "outputs": [
    {
     "name": "stdout",
     "output_type": "stream",
     "text": [
      "<class 'pandas.core.frame.DataFrame'>\n",
      "RangeIndex: 31 entries, 0 to 30\n",
      "Data columns (total 38 columns):\n",
      " #   Column         Non-Null Count  Dtype  \n",
      "---  ------         --------------  -----  \n",
      " 0   start          31 non-null     float64\n",
      " 1   end            31 non-null     float64\n",
      " 2   SPK09a         31 non-null     object \n",
      " 3   SPK09i         31 non-null     object \n",
      " 4   SPK10a         31 non-null     object \n",
      " 5   SPK10i         31 non-null     object \n",
      " 6   SPK11a         31 non-null     object \n",
      " 7   SPK11i         31 non-null     object \n",
      " 8   SPK12i         31 non-null     object \n",
      " 9   SPK13a         31 non-null     object \n",
      " 10  SPK13i         31 non-null     object \n",
      " 11  SPK14a         31 non-null     object \n",
      " 12  SPK14i         31 non-null     object \n",
      " 13  SPK15a         31 non-null     object \n",
      " 14  SPK15i         31 non-null     object \n",
      " 15  SPK16a         31 non-null     object \n",
      " 16  SPK16i         31 non-null     object \n",
      " 17  Strobed00001   31 non-null     object \n",
      " 18  Strobed00030   31 non-null     object \n",
      " 19  Strobed00040   31 non-null     object \n",
      " 20  Strobed00666   31 non-null     object \n",
      " 21  Strobed00100   31 non-null     object \n",
      " 22  Strobed02018   31 non-null     object \n",
      " 23  stimOn_SPK09a  31 non-null     object \n",
      " 24  stimOn_SPK09i  31 non-null     object \n",
      " 25  stimOn_SPK10a  31 non-null     object \n",
      " 26  stimOn_SPK10i  31 non-null     object \n",
      " 27  stimOn_SPK11a  31 non-null     object \n",
      " 28  stimOn_SPK11i  31 non-null     object \n",
      " 29  stimOn_SPK12i  31 non-null     object \n",
      " 30  stimOn_SPK13a  31 non-null     object \n",
      " 31  stimOn_SPK13i  31 non-null     object \n",
      " 32  stimOn_SPK14a  31 non-null     object \n",
      " 33  stimOn_SPK14i  31 non-null     object \n",
      " 34  stimOn_SPK15a  31 non-null     object \n",
      " 35  stimOn_SPK15i  31 non-null     object \n",
      " 36  stimOn_SPK16a  31 non-null     object \n",
      " 37  stimOn_SPK16i  31 non-null     object \n",
      "dtypes: float64(2), object(36)\n",
      "memory usage: 9.3+ KB\n"
     ]
    }
   ],
   "source": [
    "a = addStimOnset( addStrobes, stimOn, 'SPK' )\n",
    "a.info()"
   ]
  },
  {
   "cell_type": "markdown",
   "metadata": {},
   "source": [
    "<br>\n",
    "\n",
    "### Visualizing Stimulus Onset Data\n",
    "\n",
    "* raster plot for individual trials for a single channel\n",
    "* histogram for an individual trial\n",
    "* histograms for multipletrials\n",
    "\n",
    "<br>"
   ]
  },
  {
   "cell_type": "code",
   "execution_count": 15,
   "metadata": {},
   "outputs": [
    {
     "name": "stdout",
     "output_type": "stream",
     "text": [
      "['stimOn_SPK09a', 'stimOn_SPK09i', 'stimOn_SPK10a', 'stimOn_SPK10i', 'stimOn_SPK11a', 'stimOn_SPK11i', 'stimOn_SPK12i', 'stimOn_SPK13a', 'stimOn_SPK13i', 'stimOn_SPK14a', 'stimOn_SPK14i', 'stimOn_SPK15a', 'stimOn_SPK15i', 'stimOn_SPK16a', 'stimOn_SPK16i']\n",
      "15\n"
     ]
    }
   ],
   "source": [
    "stimOnCols = getDataTypeNames( a, 'stimOn_' ).values.tolist()\n",
    "stimOnCols = [item for sublist in stimOnCols for item in sublist]\n",
    "print( stimOnCols )\n",
    "print( len( stimOnCols ) )"
   ]
  },
  {
   "cell_type": "code",
   "execution_count": 16,
   "metadata": {},
   "outputs": [],
   "source": [
    "# raster plot for a channel\n",
    "def channelSpikeRaster( data_df, channel ):\n",
    "    \"\"\"\n",
    "    plot a simple raster of trial spike data \n",
    "    for a given channel in data_df\n",
    "    \"\"\"\n",
    "    neuralData = data_df[channel]      \n",
    "    fig = plt.eventplot(neuralData, color='black', linelengths = 0.5)     \n",
    "    plt.title('Stimulus Onset: ' + channel)\n",
    "    plt.xlabel('time')\n",
    "    plt.ylabel('trial')\n",
    "    plt.axvline(x=0, c = 'red')\n",
    "    plt.xlim( [-0.5,2.5])\n",
    "    #plt.show()\n",
    "    return fig"
   ]
  },
  {
   "cell_type": "code",
   "execution_count": 17,
   "metadata": {},
   "outputs": [
    {
     "data": {
      "image/png": "[encoded data removed]",
      "text/plain": [
       "<Figure size 432x288 with 1 Axes>"
      ]
     },
     "metadata": {
      "needs_background": "light"
     },
     "output_type": "display_data"
    }
   ],
   "source": [
    "# example raster plot\n",
    "aplot = channelSpikeRaster( a, 'stimOn_SPK10a' )"
   ]
  },
  {
   "cell_type": "code",
   "execution_count": 18,
   "metadata": {},
   "outputs": [],
   "source": [
    "# subplots for multiple rasters\n",
    "def multiChannel_rasterplot( data_df, channel ):\n",
    "    \"\"\"\n",
    "    plot a subplot raster of trial spike data \n",
    "    for a given channel in data_df\n",
    "    \"\"\"\n",
    "    neuralData = data_df[channel]      \n",
    "    fig = plt.eventplot(neuralData, color='black', linelengths = 0.5)     \n",
    "    plt.xlabel('time')\n",
    "    ys = plt.gca().get_ylim()\n",
    "    plt.text(-1.5, ys[1]/2, channel, fontsize=12)\n",
    "    plt.axvline(x=0, c = 'red')\n",
    "    plt.xlim( [-0.5,2.5])\n",
    "    #plt.show()\n",
    "    return fig\n",
    "\n",
    "def multiChannel_stimOn_Rasters( data_df, **kwargs ):\n",
    "    \n",
    "    channelList = kwargs.get('channelList', None)\n",
    "    \n",
    "    if channelList:\n",
    "        stimOnCols = channelList\n",
    "    else:\n",
    "        stimOnCols = getDataTypeNames( data_df, 'stimOn_' ).values.tolist()\n",
    "        stimOnCols = [item for sublist in stimOnCols for item in sublist]\n",
    "    \n",
    "    fig = plt.subplots(figsize=(6, 20))\n",
    "    plt.subplots_adjust( hspace = 0.1 )\n",
    "    for count, channel in enumerate( stimOnCols ):\n",
    "        plt.subplot(len( stimOnCols ),1,count + 1)\n",
    "        multiChannel_rasterplot( a, channel )\n",
    "    return fig"
   ]
  },
  {
   "cell_type": "code",
   "execution_count": 19,
   "metadata": {},
   "outputs": [
    {
     "data": {
      "image/png": "[encoded data removed]",
      "text/plain": [
       "<Figure size 432x1440 with 15 Axes>"
      ]
     },
     "metadata": {
      "needs_background": "light"
     },
     "output_type": "display_data"
    }
   ],
   "source": [
    "amultirast = multiChannel_stimOn_Rasters( a )\n",
    "plt.show()"
   ]
  },
  {
   "cell_type": "code",
   "execution_count": 20,
   "metadata": {},
   "outputs": [],
   "source": [
    "# a simple spike histogram\n",
    "def channelSpikeHist( data_df, channel ):\n",
    "    \"\"\"\n",
    "    plot a simple histogram of trial spike data \n",
    "    for a given channel in data_df\n",
    "    \"\"\"\n",
    "    bins = np.arange(-0.5, 2.5, 0.05)\n",
    "    neuralData = data_df[channel].sum()      \n",
    "    fig = plt.hist(neuralData, bins, color = [0.5, 0.5, 0.5 ] )    \n",
    "    plt.xlim([-0.5, 2.5])            \n",
    "    plt.ylabel('Counts')             \n",
    "    plt.title('stimOn_SPK10a')             \n",
    "    plt.axvline(x=0, c = 'red')\n",
    "    return fig"
   ]
  },
  {
   "cell_type": "code",
   "execution_count": 21,
   "metadata": {},
   "outputs": [
    {
     "data": {
      "image/png": "[encoded data removed]",
      "text/plain": [
       "<Figure size 432x288 with 1 Axes>"
      ]
     },
     "metadata": {
      "needs_background": "light"
     },
     "output_type": "display_data"
    }
   ],
   "source": [
    "ahist = channelSpikeHist( a, 'stimOn_SPK10a' )\n",
    "plt.show()"
   ]
  },
  {
   "cell_type": "code",
   "execution_count": 22,
   "metadata": {},
   "outputs": [],
   "source": [
    "# subplots for multiple rasters\n",
    "def multiChannel_histplot( data_df, channel ):\n",
    "    \"\"\"\n",
    "    plot a subplot histogram of trial spike data \n",
    "    for a given channel in data_df\n",
    "    \"\"\"\n",
    "    bins = np.arange(-0.5, 2.5, 0.05)\n",
    "    neuralData = data_df[channel].sum()      \n",
    "    fig = plt.hist(neuralData, bins, color = [0.5, 0.5, 0.5 ] )      \n",
    "    plt.xlabel('time')\n",
    "    ys = plt.gca().get_ylim()\n",
    "    plt.text(-1.5, ys[1]/2, channel, fontsize=12)\n",
    "    plt.axvline(x=0, c = 'red')\n",
    "    plt.xlim( [-0.5,2.5])\n",
    "    #plt.show()\n",
    "    return fig\n",
    "\n",
    "def multiChannel_stimOn_Histograms( data_df, **kwargs ):\n",
    "    \n",
    "    channelList = kwargs.get('channelList', None)\n",
    "    \n",
    "    if channelList:\n",
    "        stimOnCols = channelList\n",
    "    else:\n",
    "        stimOnCols = getDataTypeNames( data_df, 'stimOn_' ).values.tolist()\n",
    "        stimOnCols = [item for sublist in stimOnCols for item in sublist]\n",
    "    \n",
    "    plt.subplots(figsize=(6, 20))\n",
    "    plt.subplots_adjust( hspace = 0.1 )\n",
    "    for idx, channel in enumerate( stimOnCols ):\n",
    "        plt.subplot(len( stimOnCols ),1,idx + 1)\n",
    "        multiChannel_histplot( a, channel )\n",
    "    plt.show()"
   ]
  },
  {
   "cell_type": "code",
   "execution_count": 23,
   "metadata": {},
   "outputs": [
    {
     "data": {
      "image/png": "[encoded data removed]",
      "text/plain": [
       "<Figure size 432x1440 with 15 Axes>"
      ]
     },
     "metadata": {
      "needs_background": "light"
     },
     "output_type": "display_data"
    }
   ],
   "source": [
    "amultihist = multiChannel_stimOn_Histograms( a )\n",
    "#plt.show()"
   ]
  },
  {
   "cell_type": "code",
   "execution_count": 24,
   "metadata": {},
   "outputs": [
    {
     "data": {
      "image/png": "[encoded data removed]",
      "text/plain": [
       "<Figure size 432x1440 with 10 Axes>"
      ]
     },
     "metadata": {
      "needs_background": "light"
     },
     "output_type": "display_data"
    }
   ],
   "source": [
    "# can pass a custom list of channels to visualize only a selection\n",
    "customList = ['stimOn_SPK09a', 'stimOn_SPK09i', 'stimOn_SPK10a', 'stimOn_SPK11a', \n",
    "              'stimOn_SPK11i', 'stimOn_SPK12i', 'stimOn_SPK13i', 'stimOn_SPK14a', \n",
    "              'stimOn_SPK14i', 'stimOn_SPK16a']\n",
    "\n",
    "amultihist = multiChannel_stimOn_Histograms( a, channelList = customList )"
   ]
  },
  {
   "cell_type": "code",
   "execution_count": 25,
   "metadata": {},
   "outputs": [
    {
     "data": {
      "text/plain": [
       "(<Figure size 432x1440 with 10 Axes>,\n",
       " <matplotlib.axes._subplots.AxesSubplot at 0x7f7eccbc8510>)"
      ]
     },
     "execution_count": 25,
     "metadata": {},
     "output_type": "execute_result"
    },
    {
     "data": {
      "image/png": "[encoded data removed]",
      "text/plain": [
       "<Figure size 432x1440 with 10 Axes>"
      ]
     },
     "metadata": {
      "needs_background": "light"
     },
     "output_type": "display_data"
    }
   ],
   "source": [
    "#same goes with rasters\n",
    "multiChannel_stimOn_Rasters( a, channelList = customList )"
   ]
  },
  {
   "cell_type": "markdown",
   "metadata": {},
   "source": [
    "<br>\n",
    "\n",
    "### Loading `.bhv` files\n",
    "\n",
    "<br>"
   ]
  },
  {
   "cell_type": "code",
   "execution_count": 27,
   "metadata": {},
   "outputs": [],
   "source": [
    "#load .mat into python environment\n",
    "bhvPath = \"/home/bonzilla/Desktop/scienceLife/linArray/bhv_083018/180830_Peanut_delayedSaccadeTask_2016_6_8(1).mat\"\n",
    "bhvMat = loadmat( bhvPath )"
   ]
  },
  {
   "cell_type": "code",
   "execution_count": 28,
   "metadata": {},
   "outputs": [
    {
     "name": "stdout",
     "output_type": "stream",
     "text": [
      "<class 'dict'>\n"
     ]
    },
    {
     "data": {
      "text/plain": [
       "dict_keys(['__header__', '__version__', '__globals__', 'MLConfig', 'Trial1', 'Trial2', 'Trial3', 'Trial4', 'Trial5', 'Trial6', 'Trial7', 'Trial8', 'Trial9', 'Trial10', 'Trial11', 'Trial12', 'Trial13', 'Trial14', 'Trial15', 'Trial16', 'Trial17', 'Trial18', 'Trial19', 'Trial20', 'Trial21', 'Trial22', 'Trial23', 'Trial24', 'Trial25', 'Trial26', 'Trial27', 'Trial28', 'Trial29', 'Trial30', 'Trial31', 'Trial32', 'Trial33', 'Trial34', 'Trial35', 'Trial36', 'Trial37', 'Trial38', 'Trial39', 'Trial40', 'Trial41', 'Trial42', 'Trial43', 'Trial44', 'Trial45', 'Trial46', 'Trial47', 'Trial48', 'Trial49', 'Trial50', 'Trial51', 'Trial52', 'Trial53', 'Trial54', 'Trial55', 'Trial56', 'Trial57', 'Trial58', 'Trial59', 'Trial60', 'Trial61', 'Trial62', 'Trial63', 'Trial64', 'Trial65', 'Trial66', 'Trial67', 'Trial68', 'Trial69', 'Trial70', 'Trial71', 'Trial72', 'Trial73', 'Trial74', 'Trial75', 'Trial76', 'Trial77', 'Trial78', 'Trial79', 'Trial80', 'Trial81', 'Trial82', 'Trial83', 'Trial84', 'Trial85', 'Trial86', 'Trial87', 'Trial88', 'Trial89', 'Trial90', 'Trial91', 'Trial92', 'Trial93', 'Trial94', 'Trial95', 'Trial96', 'Trial97', 'Trial98', 'Trial99', 'Trial100', 'Trial101', 'Trial102', 'Trial103', 'Trial104', 'Trial105', 'Trial106', 'Trial107', 'Trial108', 'Trial109', 'Trial110', 'Trial111', 'Trial112', 'Trial113', 'Trial114', 'Trial115', 'Trial116', 'Trial117', 'Trial118', 'Trial119', 'Trial120', 'Trial121', 'Trial122', 'Trial123', 'Trial124', 'Trial125', 'Trial126', 'Trial127', 'Trial128', 'Trial129', 'Trial130', 'Trial131', 'Trial132', 'Trial133', 'Trial134', 'Trial135', 'Trial136', 'Trial137', 'Trial138', 'Trial139', 'Trial140', 'Trial141', 'Trial142', 'Trial143', 'Trial144', 'Trial145', 'Trial146', 'Trial147', 'Trial148', 'Trial149', 'Trial150', 'Trial151', 'Trial152', 'TrialRecord'])"
      ]
     },
     "execution_count": 28,
     "metadata": {},
     "output_type": "execute_result"
    }
   ],
   "source": [
    "print( type( bhvMat ) )\n",
    "bhvMat.keys()"
   ]
  },
  {
   "cell_type": "code",
   "execution_count": 29,
   "metadata": {},
   "outputs": [
    {
     "data": {
      "text/plain": [
       "['Trial',\n",
       " 'Block',\n",
       " 'TrialWithinBlock',\n",
       " 'Condition',\n",
       " 'TrialError',\n",
       " 'ReactionTime',\n",
       " 'AbsoluteTrialStartTime',\n",
       " 'TrialDateTime',\n",
       " 'BehavioralCodes',\n",
       " 'AnalogData',\n",
       " 'ObjectStatusRecord',\n",
       " 'RewardRecord',\n",
       " 'UserVars',\n",
       " 'VariableChanges',\n",
       " 'TaskObject',\n",
       " 'CycleRate',\n",
       " 'Ver']"
      ]
     },
     "execution_count": 29,
     "metadata": {},
     "output_type": "execute_result"
    }
   ],
   "source": [
    "#list of fields in .bhv struc\n",
    "\n",
    "bhv_fields = [ 'Trial', 'Block', 'TrialWithinBlock', 'Condition', 'TrialError',\n",
    "              'ReactionTime', 'AbsoluteTrialStartTime', 'TrialDateTime', 'BehavioralCodes',\n",
    "              'AnalogData', 'ObjectStatusRecord', 'RewardRecord', 'UserVars', \n",
    "              'VariableChanges', 'TaskObject', 'CycleRate', 'Ver' ]\n",
    "\n",
    "bhv_fields"
   ]
  },
  {
   "cell_type": "code",
   "execution_count": 126,
   "metadata": {},
   "outputs": [
    {
     "name": "stdout",
     "output_type": "stream",
     "text": [
      "BehavioralCodes\n",
      "1\n"
     ]
    },
    {
     "data": {
      "text/plain": [
       "(array([[   5.72920707],\n",
       "       [   7.99208432],\n",
       "       [  12.12556773],\n",
       "       [  12.39137531],\n",
       "       [  12.65484096],\n",
       "       [  12.92006305],\n",
       "       [ 159.58436829],\n",
       "       [ 171.99740633],\n",
       "       [ 189.79334047],\n",
       "       [ 256.6336993 ],\n",
       "       [ 392.40252868],\n",
       "       [ 416.21894581],\n",
       "       [ 433.6597868 ],\n",
       "       [ 447.53096087],\n",
       "       [ 969.40461153],\n",
       "       [ 970.18095699],\n",
       "       [ 970.45320484],\n",
       "       [ 980.32028642],\n",
       "       [1592.22542122],\n",
       "       [1596.98068357],\n",
       "       [2148.82882197],\n",
       "       [2166.58318709],\n",
       "       [2288.05022241],\n",
       "       [2989.48391469],\n",
       "       [3191.71927441],\n",
       "       [3198.06762578],\n",
       "       [3414.47216851]]), array([[   9],\n",
       "       [5555],\n",
       "       [2018],\n",
       "       [ 830],\n",
       "       [1608],\n",
       "       [ 841],\n",
       "       [   1],\n",
       "       [  10],\n",
       "       [  13],\n",
       "       [  13],\n",
       "       [  13],\n",
       "       [  13],\n",
       "       [  13],\n",
       "       [  13],\n",
       "       [   3],\n",
       "       [  41],\n",
       "       [ 555],\n",
       "       [  30],\n",
       "       [  46],\n",
       "       [  40],\n",
       "       [ 666],\n",
       "       [  13],\n",
       "       [  13],\n",
       "       [  13],\n",
       "       [2000],\n",
       "       [ 100],\n",
       "       [  18]], dtype=uint16))"
      ]
     },
     "execution_count": 126,
     "metadata": {},
     "output_type": "execute_result"
    }
   ],
   "source": [
    "# need the eye position, time, and eventmarker timestamps\n",
    "Trial1_bhvdat = bhvMat[ 'Trial1' ]\n",
    "#Trial1_bhvdat[0][0][9][0][0][1] #eye position\n",
    "#Trial1_bhvdat[0][0][8][0][0] #strobed codes & code timestamps\n",
    "\n",
    "#TrialRecord_bhvdat = bhvMat[ 'TrialRecord' ]\n",
    "num = 8\n",
    "print( bhv_fields[ num ] )\n",
    "print( len(Trial1_bhvdat[0][0][num]) ) #\n",
    "Trial1_bhvdat[0][0][num][0][0]"
   ]
  },
  {
   "cell_type": "code",
   "execution_count": 124,
   "metadata": {},
   "outputs": [],
   "source": [
    "# need some functions to move relevant data from the .mat structure to a pandas dataframe\n",
    "\n",
    "def bhvmat2pandasdf( bhvmat ):\n",
    "    \"\"\"\n",
    "    move data from a .mat file adaptation of a .bhv file \n",
    "    into a more human-friendly format as a pandas dataframe\n",
    "    \n",
    "    takes an input a .mat file returns a df\n",
    "    \"\"\"\n",
    "     \n",
    "    num_trials = bhvmat['TrialRecord'][0][0][0][0][0]\n",
    "    trial_nums = list( range( 1,num_trials + 1 ) )\n",
    "    trial_Labels = [ 'Trial' + str( trial_num ) for trial_num in trial_nums ]\n",
    "    AbsTST = [ bhvmat[ trial_label ][0][0][6][0][0] for trial_label in trial_Labels ]\n",
    "    Eyedat = [ bhvmat[ trial_label ][0][0][9][0][0][1] for trial_label in trial_Labels ]\n",
    "    BHVCodes = [ bhvmat[ trial_label ][0][0][8][0][0] for trial_label in trial_Labels ]\n",
    "        \n",
    "\n",
    "    bhv_data = { 'Trial_Number':trial_nums,\n",
    "                'Trial_Labels':trial_Labels,\n",
    "                'AbsoluteTrialStartTime':AbsTST,\n",
    "                'AnalogEyeData':Eyedat,\n",
    "                'BehavioralCodes':BHVCodes }\n",
    "    bhv_df = pd.DataFrame( bhv_data )\n",
    "    \n",
    "    return bhv_df"
   ]
  },
  {
   "cell_type": "code",
   "execution_count": 127,
   "metadata": {},
   "outputs": [
    {
     "data": {
      "text/html": [
       "<div>\n",
       "<style scoped>\n",
       "    .dataframe tbody tr th:only-of-type {\n",
       "        vertical-align: middle;\n",
       "    }\n",
       "\n",
       "    .dataframe tbody tr th {\n",
       "        vertical-align: top;\n",
       "    }\n",
       "\n",
       "    .dataframe thead th {\n",
       "        text-align: right;\n",
       "    }\n",
       "</style>\n",
       "<table border=\"1\" class=\"dataframe\">\n",
       "  <thead>\n",
       "    <tr style=\"text-align: right;\">\n",
       "      <th></th>\n",
       "      <th>Trial_Number</th>\n",
       "      <th>Trial_Labels</th>\n",
       "      <th>AbsoluteTrialStartTime</th>\n",
       "      <th>AnalogEyeData</th>\n",
       "      <th>BehavioralCodes</th>\n",
       "    </tr>\n",
       "  </thead>\n",
       "  <tbody>\n",
       "    <tr>\n",
       "      <th>0</th>\n",
       "      <td>1</td>\n",
       "      <td>Trial1</td>\n",
       "      <td>0.000000</td>\n",
       "      <td>[[-22.09418424154145, 12.133549342766157], [-2...</td>\n",
       "      <td>[[[5.729207070544362], [7.992084319994319], [1...</td>\n",
       "    </tr>\n",
       "    <tr>\n",
       "      <th>1</th>\n",
       "      <td>2</td>\n",
       "      <td>Trial2</td>\n",
       "      <td>3972.893775</td>\n",
       "      <td>[[4.870643585723816, 1.62802326169313], [4.803...</td>\n",
       "      <td>[[[0.6545657888636924], [25.40921339459601], [...</td>\n",
       "    </tr>\n",
       "    <tr>\n",
       "      <th>2</th>\n",
       "      <td>3</td>\n",
       "      <td>Trial3</td>\n",
       "      <td>7439.404802</td>\n",
       "      <td>[[-23.81452333269965, 10.73779962997448], [-23...</td>\n",
       "      <td>[[[1.3199629393056966], [31.058502547239186], ...</td>\n",
       "    </tr>\n",
       "    <tr>\n",
       "      <th>3</th>\n",
       "      <td>4</td>\n",
       "      <td>Trial4</td>\n",
       "      <td>11031.459556</td>\n",
       "      <td>[[-2.7024497713135824, 6.48429058186654], [-2....</td>\n",
       "      <td>[[[0.27224784207646735], [11.224222445889609],...</td>\n",
       "    </tr>\n",
       "    <tr>\n",
       "      <th>4</th>\n",
       "      <td>5</td>\n",
       "      <td>Trial5</td>\n",
       "      <td>12239.452226</td>\n",
       "      <td>[[-26.411747511414376, 12.779056931449766], [-...</td>\n",
       "      <td>[[[0.2643438747327309], [12.681187527050497], ...</td>\n",
       "    </tr>\n",
       "  </tbody>\n",
       "</table>\n",
       "</div>"
      ],
      "text/plain": [
       "   Trial_Number Trial_Labels  AbsoluteTrialStartTime  \\\n",
       "0             1       Trial1                0.000000   \n",
       "1             2       Trial2             3972.893775   \n",
       "2             3       Trial3             7439.404802   \n",
       "3             4       Trial4            11031.459556   \n",
       "4             5       Trial5            12239.452226   \n",
       "\n",
       "                                       AnalogEyeData  \\\n",
       "0  [[-22.09418424154145, 12.133549342766157], [-2...   \n",
       "1  [[4.870643585723816, 1.62802326169313], [4.803...   \n",
       "2  [[-23.81452333269965, 10.73779962997448], [-23...   \n",
       "3  [[-2.7024497713135824, 6.48429058186654], [-2....   \n",
       "4  [[-26.411747511414376, 12.779056931449766], [-...   \n",
       "\n",
       "                                     BehavioralCodes  \n",
       "0  [[[5.729207070544362], [7.992084319994319], [1...  \n",
       "1  [[[0.6545657888636924], [25.40921339459601], [...  \n",
       "2  [[[1.3199629393056966], [31.058502547239186], ...  \n",
       "3  [[[0.27224784207646735], [11.224222445889609],...  \n",
       "4  [[[0.2643438747327309], [12.681187527050497], ...  "
      ]
     },
     "execution_count": 127,
     "metadata": {},
     "output_type": "execute_result"
    }
   ],
   "source": [
    "abhv_df = bhvmat2pandasdf( bhvMat )\n",
    "abhv_df.head()\n",
    "#len( bhvMat[ 'Trial1' ][0][0][9][0][0][1] )"
   ]
  },
  {
   "cell_type": "code",
   "execution_count": 161,
   "metadata": {},
   "outputs": [],
   "source": [
    "#function to add feature collumns for a list of behavioral codes\n",
    "def addEventcodeVariable( bhv_df, eventcode_list ):\n",
    "    \"\"\"\n",
    "    for each number in eventcode_list,\n",
    "    add a feature column to bhv_df with a list of times \n",
    "    corresponding to the code number\n",
    "    \"\"\"\n",
    "    \n",
    "    numtrials = bhv_df.shape[0]\n",
    "    \n",
    "    for trial in \n",
    "    eventnum = eventcode_list[ 0 ]\n",
    "    res = bhv_df[ 'BehavioralCodes' ][0][1].tolist()\n",
    "    res = [item for sublist in res for item in sublist]\n",
    "    res = [i for i, x in enumerate(res) if x == eventnum]\n",
    "    \n",
    "    timevals = bhv_df[ 'BehavioralCodes' ][0][0].tolist()\n",
    "    timevals = [item for sublist in timevals for item in sublist]\n",
    "    timevals = timevals[ res[0] ]\n",
    "    \n",
    "    return res, timevals\n",
    "    "
   ]
  },
  {
   "cell_type": "code",
   "execution_count": 162,
   "metadata": {},
   "outputs": [
    {
     "data": {
      "text/plain": [
       "([7], 171.99740632713656)"
      ]
     },
     "execution_count": 162,
     "metadata": {},
     "output_type": "execute_result"
    }
   ],
   "source": [
    "addEventcodeVariable( abhv_df, [10, 30] )"
   ]
  },
  {
   "cell_type": "code",
   "execution_count": 164,
   "metadata": {},
   "outputs": [
    {
     "data": {
      "text/plain": [
       "152"
      ]
     },
     "execution_count": 164,
     "metadata": {},
     "output_type": "execute_result"
    }
   ],
   "source": [
    "abhv_df.shape[0]"
   ]
  },
  {
   "cell_type": "code",
   "execution_count": null,
   "metadata": {},
   "outputs": [],
   "source": []
  },
  {
   "cell_type": "code",
   "execution_count": null,
   "metadata": {},
   "outputs": [],
   "source": []
  },
  {
   "cell_type": "code",
   "execution_count": null,
   "metadata": {},
   "outputs": [],
   "source": []
  },
  {
   "cell_type": "code",
   "execution_count": null,
   "metadata": {},
   "outputs": [],
   "source": []
  },
  {
   "cell_type": "code",
   "execution_count": null,
   "metadata": {},
   "outputs": [],
   "source": []
  },
  {
   "cell_type": "code",
   "execution_count": null,
   "metadata": {},
   "outputs": [],
   "source": []
  },
  {
   "cell_type": "code",
   "execution_count": 26,
   "metadata": {},
   "outputs": [
    {
     "ename": "NameError",
     "evalue": "name 'samples' is not defined",
     "output_type": "error",
     "traceback": [
      "\u001b[0;31m---------------------------------------------------------------------------\u001b[0m",
      "\u001b[0;31mNameError\u001b[0m                                 Traceback (most recent call last)",
      "\u001b[0;32m<ipython-input-26-be069c76eb51>\u001b[0m in \u001b[0;36m<module>\u001b[0;34m\u001b[0m\n\u001b[1;32m      1\u001b[0m \u001b[0msample_rate\u001b[0m \u001b[0;34m=\u001b[0m \u001b[0;36m1000\u001b[0m\u001b[0;34m\u001b[0m\u001b[0;34m\u001b[0m\u001b[0m\n\u001b[0;32m----> 2\u001b[0;31m \u001b[0mfrequencies\u001b[0m\u001b[0;34m,\u001b[0m \u001b[0mtimes\u001b[0m\u001b[0;34m,\u001b[0m \u001b[0mspectrogram\u001b[0m \u001b[0;34m=\u001b[0m \u001b[0msignal\u001b[0m\u001b[0;34m.\u001b[0m\u001b[0mspectrogram\u001b[0m\u001b[0;34m(\u001b[0m\u001b[0msamples\u001b[0m\u001b[0;34m,\u001b[0m \u001b[0msample_rate\u001b[0m\u001b[0;34m)\u001b[0m\u001b[0;34m\u001b[0m\u001b[0;34m\u001b[0m\u001b[0m\n\u001b[0m\u001b[1;32m      3\u001b[0m \u001b[0;34m\u001b[0m\u001b[0m\n\u001b[1;32m      4\u001b[0m \u001b[0mplt\u001b[0m\u001b[0;34m.\u001b[0m\u001b[0mpcolormesh\u001b[0m\u001b[0;34m(\u001b[0m\u001b[0mtimes\u001b[0m\u001b[0;34m,\u001b[0m \u001b[0mfrequencies\u001b[0m\u001b[0;34m,\u001b[0m \u001b[0mspectrogram\u001b[0m\u001b[0;34m)\u001b[0m\u001b[0;34m\u001b[0m\u001b[0;34m\u001b[0m\u001b[0m\n\u001b[1;32m      5\u001b[0m \u001b[0mplt\u001b[0m\u001b[0;34m.\u001b[0m\u001b[0mimshow\u001b[0m\u001b[0;34m(\u001b[0m\u001b[0mspectrogram\u001b[0m\u001b[0;34m)\u001b[0m\u001b[0;34m\u001b[0m\u001b[0;34m\u001b[0m\u001b[0m\n",
      "\u001b[0;31mNameError\u001b[0m: name 'samples' is not defined"
     ]
    }
   ],
   "source": [
    "sample_rate = 1000\n",
    "frequencies, times, spectrogram = signal.spectrogram(samples, sample_rate)\n",
    "\n",
    "plt.pcolormesh(times, frequencies, spectrogram)\n",
    "plt.imshow(spectrogram)\n",
    "plt.ylabel('Frequency [Hz]')\n",
    "plt.xlabel('Time [sec]')\n",
    "plt.show()"
   ]
  }
 ],
 "metadata": {
  "kernelspec": {
   "display_name": "Python 3",
   "language": "python",
   "name": "python3"
  },
  "language_info": {
   "codemirror_mode": {
    "name": "ipython",
    "version": 3
   },
   "file_extension": ".py",
   "mimetype": "text/x-python",
   "name": "python",
   "nbconvert_exporter": "python",
   "pygments_lexer": "ipython3",
   "version": "3.7.6"
  }
 },
 "nbformat": 4,
 "nbformat_minor": 4
}
