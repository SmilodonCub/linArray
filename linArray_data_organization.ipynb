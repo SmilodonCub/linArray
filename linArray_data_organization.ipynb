{
 "cells": [
  {
   "cell_type": "markdown",
   "id": "5aa21ab6",
   "metadata": {},
   "source": [
    "# Data Organization for linArray_app"
   ]
  },
  {
   "cell_type": "code",
   "execution_count": 1,
   "id": "800be604",
   "metadata": {},
   "outputs": [],
   "source": [
    "#load libraries\n",
    "from scipy.io import loadmat\n",
    "import pandas as pd\n",
    "import numpy as np\n",
    "import matplotlib.pyplot as plt\n",
    "import seaborn as sns\n",
    "from scipy import signal\n",
    "import math\n",
    "import alignment_functions as af\n",
    "import PyTrack.etDataReader as et"
   ]
  },
  {
   "cell_type": "code",
   "execution_count": null,
   "id": "c5116a6c",
   "metadata": {},
   "outputs": [],
   "source": [
    "#dir( af )"
   ]
  },
  {
   "cell_type": "code",
   "execution_count": 2,
   "id": "99dd3228",
   "metadata": {},
   "outputs": [
    {
     "name": "stdout",
     "output_type": "stream",
     "text": [
      "['T35_083018_t1_spikingDAT.mat', 'T35_083018_t2_spikingDAT.mat', 'T35_083018_t2-01.plx', 'T35_083018_t2.plx', 'T35_083018_t3.plx', 'T35_083018_t1.plx', 'T35_083018_t3_spikingDAT.mat', 'T35_083018_t1-01.plx']\n"
     ]
    }
   ],
   "source": [
    "from os import listdir\n",
    "from os.path import isfile, join\n",
    "mypath = \"/home/bonzilla/Documents/ScienceLife/linArray/linArray_data/\"\n",
    "onlyfiles = [f for f in listdir(mypath) if isfile(join(mypath, f))]\n",
    "print( onlyfiles )"
   ]
  },
  {
   "cell_type": "code",
   "execution_count": 3,
   "id": "d00fe9f0",
   "metadata": {},
   "outputs": [
    {
     "name": "stdout",
     "output_type": "stream",
     "text": [
      "dict_keys(['__header__', '__version__', '__globals__', 'SPK09i', 'SPK10i', 'SPK11i', 'SPK12i', 'SPK13a', 'SPK13i', 'SPK14i', 'SPK15a', 'SPK15i', 'SPK16a', 'SPK16i', 'Start', 'Stop', 'Strobed00001', 'Strobed00003', 'Strobed00005', 'Strobed00006', 'Strobed00007', 'Strobed00009', 'Strobed00010', 'Strobed00013', 'Strobed00014', 'Strobed00016', 'Strobed00017', 'Strobed00018', 'Strobed00030', 'Strobed00040', 'Strobed00041', 'Strobed00043', 'Strobed00046', 'Strobed00050', 'Strobed00100', 'Strobed00102', 'Strobed00131', 'Strobed00161', 'Strobed00235', 'Strobed00360', 'Strobed00400', 'Strobed00555', 'Strobed00666', 'Strobed00830', 'Strobed01000', 'Strobed01618', 'Strobed01808', 'Strobed02000', 'Strobed02018', 'Strobed05555', 'catSearchPHYSIOLIntervals', 'delayedSacc180RFInt', 'delayedSaccIntervals', 'plxDataIntervals'])\n"
     ]
    },
    {
     "data": {
      "text/plain": [
       "(31, 13)"
      ]
     },
     "execution_count": 3,
     "metadata": {},
     "output_type": "execute_result"
    }
   ],
   "source": [
    "#load .mat into python environment @ new machine\n",
    "chosen_data = onlyfiles[1]\n",
    "linArrayPath = mypath + chosen_data\n",
    "linArrayMat = loadmat( linArrayPath )\n",
    "print(linArrayMat.keys())\n",
    "multi_dSacctrials = af.getMultiChannelTrialData( linArrayMat, 'SPK', 'delayedSaccIntervals' )\n",
    "multi_dSacctrials.shape"
   ]
  },
  {
   "cell_type": "markdown",
   "id": "26686089",
   "metadata": {},
   "source": [
    "## Delayed Saccade"
   ]
  },
  {
   "cell_type": "code",
   "execution_count": null,
   "id": "5a796422",
   "metadata": {},
   "outputs": [],
   "source": [
    "multi_dSacctrials = af.getMultiChannelTrialData( linArrayMat, 'SPK', 'delayedSaccIntervals', timeint = [0., 90.] )\n",
    "addStrobes = multi_dSacctrials.copy()\n",
    "addStrobes = af.addEventMarker( linArrayMat, addStrobes, [ 30, 40, 555, 666, 100 ], 'delayedSaccIntervals' )"
   ]
  },
  {
   "cell_type": "code",
   "execution_count": null,
   "id": "9c63de22",
   "metadata": {},
   "outputs": [],
   "source": [
    "# aligning neural data\n",
    "stimOn = 555 #define the eventmarker for stimulus onset\n",
    "multi_DSalign = af.addStimOnset( addStrobes, stimOn, 'SPK' )"
   ]
  },
  {
   "cell_type": "code",
   "execution_count": null,
   "id": "b160cc00",
   "metadata": {},
   "outputs": [],
   "source": [
    "stimOnCols = af.getDataTypeNames( multi_DSalign, 'stimOn_' ).values.tolist()\n",
    "stimOnCols = [item for sublist in stimOnCols for item in sublist]\n",
    "time_axis_limits_ms = [ -50, 150 ]"
   ]
  },
  {
   "cell_type": "code",
   "execution_count": null,
   "id": "e30d29b2",
   "metadata": {},
   "outputs": [],
   "source": [
    "#load behavioral .mat into python environment\n",
    "path = \"/home/bonzilla/Documents/ScienceLife/linArray/bhv_083018/\"\n",
    "\n",
    "bhv_file = \"180830_Peanut_delayedSaccadeTask_2016_6_8(1)(1).mat\"\n",
    "bhvPath = path + bhv_file #\"180830_Peanut_delayedSaccadeTask_2016_6_8(1)(1).mat\" #holds 22 trials, 14 correct trials Track2 RF mapping == T35_083018_t2_delayedSaccade.pkl\n",
    "#bhvPath = path + bhv_file #\"180830_Peanut_delayedSaccadeTask_2016_6_8(1)(2).mat\" #holds 52 trials, 41 correct trials Track2 RF+180\n",
    "#bhvPath = path + bhv_file #\"180830_Peanut_delayedSaccadeTask_2016_6_8(1)(3).mat\" #holds 82 trials, 70 correct trials ???\n",
    "#bhvPath = path + \"180830_Peanut_delayedSaccadeTask_2016_6_8(1).mat\" #holds 152 trials, 64 correct trials Track1?\n",
    "bhvMat = loadmat( bhvPath )"
   ]
  },
  {
   "cell_type": "code",
   "execution_count": null,
   "id": "83ecee51",
   "metadata": {},
   "outputs": [],
   "source": [
    "BHV_df = af.bhvmat2pandasdf( bhvMat )\n",
    "BHV_plusEV = af.addMultiEventVariables( BHV_df, [ 30, 40, 666, 100 ] )\n",
    "print( BHV_plusEV.shape )\n",
    "# select just the correct trials\n",
    "BHV_correct = BHV_plusEV[\n",
    "    BHV_plusEV['Trial_Error']==0].reset_index()\n",
    "print( BHV_correct.shape )"
   ]
  },
  {
   "cell_type": "code",
   "execution_count": null,
   "id": "4cedf9c2",
   "metadata": {},
   "outputs": [],
   "source": [
    "#merging neural & behavioral data \n",
    "column_list = [ 'AnalogEyeData', 'bhv_code30', 'bhv_code40', 'bhv_code666' ]\n",
    "mergedDS = af.mergeBehavioralColumn( \n",
    "    multi_DSalign, BHV_correct, column_list )\n",
    "mergedDS = af.split_analog_eye( mergedDS, 'AnalogEyeData' )"
   ]
  },
  {
   "cell_type": "code",
   "execution_count": null,
   "id": "68b9744b",
   "metadata": {},
   "outputs": [],
   "source": [
    "merged_bothAlign = af.add_saccade_onsets( mergedDS, 'bhv_code40', 'bhv_code666' )\n",
    "stimOn_eyealign = af.alignments4trials( merged_bothAlign, 'bhv_code40', 'saccade_onset', 0 )\n",
    "plt.show( stimOn_eyealign )"
   ]
  },
  {
   "cell_type": "code",
   "execution_count": null,
   "id": "6c21b181",
   "metadata": {},
   "outputs": [],
   "source": [
    "merged_bothAlign = af.adjustSpikes_SaccadeStart( merged_bothAlign, 'saccade_onset', 'SPK' )"
   ]
  },
  {
   "cell_type": "code",
   "execution_count": null,
   "id": "40c04938",
   "metadata": {},
   "outputs": [],
   "source": [
    "combinedalign = af.eyespike_dualAligned( merged_bothAlign, 'SPK13i', 'bhv_code40', 'saccade_onset', time_axis_limits_ms, 0  )\n",
    "plt.show( combinedalign )"
   ]
  },
  {
   "cell_type": "code",
   "execution_count": null,
   "id": "46b50d35",
   "metadata": {},
   "outputs": [],
   "source": [
    "merged_bothAlign = merged_bothAlign.assign( neuralDat = chosen_data, BHVdat = bhv_file )\n",
    "merged_bothAlign"
   ]
  },
  {
   "cell_type": "code",
   "execution_count": null,
   "id": "21704c43",
   "metadata": {},
   "outputs": [],
   "source": [
    "merged_bothAlign.to_pickle(\"T35_083018_t1_delayedSaccade.pkl\")"
   ]
  },
  {
   "cell_type": "code",
   "execution_count": null,
   "id": "f6df9863",
   "metadata": {},
   "outputs": [],
   "source": [
    "t1 = pd.read_pickle(\"T35_083018_t1_delayedSaccade.pkl\")\n",
    "t2 = pd.read_pickle(\"T35_083018_t2_delayedSaccade.pkl\")\n",
    "t3 = pd.read_pickle(\"T35_083018_t3_delayedSaccade.pkl\")\n",
    "\n",
    "ds_df = pd.concat([t1, t2, t3], ignore_index=True)\n",
    "ds_df = ds_df.assign( task = 'delayed saccade' )\n",
    "ds_df.shape"
   ]
  },
  {
   "cell_type": "code",
   "execution_count": null,
   "id": "3b604242",
   "metadata": {},
   "outputs": [],
   "source": [
    "#ds_df.to_pickle(\"delayedSaccade.pkl\")"
   ]
  },
  {
   "cell_type": "markdown",
   "id": "967adb07",
   "metadata": {},
   "source": [
    "## catSearchPHYSIOL"
   ]
  },
  {
   "cell_type": "code",
   "execution_count": null,
   "id": "40f43403",
   "metadata": {},
   "outputs": [],
   "source": [
    "#load .mat into python environment @ new machine\n",
    "chosen_data = onlyfiles[6]\n",
    "linArrayPath = mypath + chosen_data\n",
    "linArrayMat = loadmat( linArrayPath )\n",
    "print(linArrayMat.keys())\n",
    "\n",
    "# demonstrate getMultiChannelTrialData()\n",
    "# generates a pandas dataframe with a row for each trial, start/end features and columns for each channeldata\n",
    "catSearchtrials = af. getMultiChannelTrialData( linArrayMat, 'SPK', 'catSearchPHYSIOLIntervals' )\n",
    "print( catSearchtrials.shape )\n",
    "catSearchtrials.info()"
   ]
  },
  {
   "cell_type": "code",
   "execution_count": null,
   "id": "89cf20c5",
   "metadata": {},
   "outputs": [],
   "source": [
    "catSearchaddStrobes = catSearchtrials.copy()\n",
    "af.addEventMarker( linArrayMat, catSearchaddStrobes, [ 1, 14, 40 ], 'catSearchPHYSIOLIntervals' )\n",
    "catSearchaddStrobes.head()"
   ]
  },
  {
   "cell_type": "code",
   "execution_count": null,
   "id": "c3a259ce",
   "metadata": {},
   "outputs": [],
   "source": [
    "# aligning neural data\n",
    "stimOn = 40 #define the eventmarker for stimulus onset\n",
    "catSearch_multi_DSalign = af.addStimOnset( catSearchaddStrobes, stimOn, 'SPK' )"
   ]
  },
  {
   "cell_type": "code",
   "execution_count": null,
   "id": "76cbe8e2",
   "metadata": {},
   "outputs": [],
   "source": [
    "stimOnCols = af.getDataTypeNames( catSearch_multi_DSalign, 'stimOn_' ).values.tolist()\n",
    "stimOnCols = [item for sublist in stimOnCols for item in sublist]\n",
    "print( stimOnCols )\n",
    "time_axis_limits_ms = [ -50, 150 ]"
   ]
  },
  {
   "cell_type": "code",
   "execution_count": null,
   "id": "80d94b35",
   "metadata": {},
   "outputs": [],
   "source": [
    "#load behavioral .mat into python environment\n",
    "path = \"/home/bonzilla/Documents/ScienceLife/linArray/bhv_083018/\"\n",
    "#bhv_file = \"180830_Peanut_CatSearch_Physiol_ML2_2018_8_30(1).mat\"\n",
    "bhv_file = \"180830_Peanut_CatSearch_Physiol_ML2_2018_8_30(2).mat\"\n",
    "bhvPath = path + bhv_file \n",
    "bhvMat = loadmat( bhvPath )"
   ]
  },
  {
   "cell_type": "code",
   "execution_count": null,
   "id": "81be2f80",
   "metadata": {},
   "outputs": [],
   "source": [
    "BHV_df = af.catSearchPHYSIOL2pandasdf( bhvMat )\n",
    "BHV_plusEV = af.addMultiEventVariables( BHV_df, [ 1, 40, 14 ] )\n",
    "print( BHV_plusEV.shape )\n",
    "# select just the correct trials\n",
    "BHV_correct = BHV_plusEV[\n",
    "    BHV_plusEV['Trial_Error']==0].reset_index()\n",
    "print( BHV_correct.shape )"
   ]
  },
  {
   "cell_type": "code",
   "execution_count": null,
   "id": "34521020",
   "metadata": {},
   "outputs": [],
   "source": [
    "#merging neural & behavioral data \n",
    "column_list = [ 'AnalogEyeData', 'bhv_code1', 'bhv_code40', 'bhv_code14' ]\n",
    "mergedDS = af.mergeBehavioralColumn( \n",
    "    catSearch_multi_DSalign, BHV_correct, column_list )\n",
    "mergedDS = af.split_analog_eye( mergedDS, 'AnalogEyeData' )"
   ]
  },
  {
   "cell_type": "code",
   "execution_count": null,
   "id": "6125cb72",
   "metadata": {},
   "outputs": [],
   "source": [
    "catSearch_stimOn_align = af.eyespike_stimOnAligned( mergedDS, 'SPK13i', 'bhv_code40', time_axis_limits_ms, 0  )\n",
    "plt.show( catSearch_stimOn_align )"
   ]
  },
  {
   "cell_type": "code",
   "execution_count": null,
   "id": "04f3593a",
   "metadata": {},
   "outputs": [],
   "source": [
    "#print( chosen_data )\n",
    "#T35_083018_t3_catSearchPHYSIOL = mergedDS\n",
    "#T35_083018_t3_catSearchPHYSIOL.to_pickle(\"T35_083018_t3_catSearchPHYSIOL.pkl\")"
   ]
  },
  {
   "cell_type": "markdown",
   "id": "7dd05ce2",
   "metadata": {},
   "source": [
    "## delayedSaccade180"
   ]
  },
  {
   "cell_type": "code",
   "execution_count": 21,
   "id": "f2e5a867",
   "metadata": {},
   "outputs": [
    {
     "name": "stdout",
     "output_type": "stream",
     "text": [
      "(21, 64)\n",
      "<class 'pandas.core.frame.DataFrame'>\n",
      "RangeIndex: 21 entries, 0 to 20\n",
      "Data columns (total 64 columns):\n",
      " #   Column               Non-Null Count  Dtype  \n",
      "---  ------               --------------  -----  \n",
      " 0   index                21 non-null     int64  \n",
      " 1   start                21 non-null     float64\n",
      " 2   end                  21 non-null     float64\n",
      " 3   SPK01i               21 non-null     object \n",
      " 4   SPK02i               21 non-null     object \n",
      " 5   SPK03i               21 non-null     object \n",
      " 6   SPK04i               21 non-null     object \n",
      " 7   SPK05i               21 non-null     object \n",
      " 8   SPK06i               21 non-null     object \n",
      " 9   SPK07i               21 non-null     object \n",
      " 10  SPK08i               21 non-null     object \n",
      " 11  SPK09i               21 non-null     object \n",
      " 12  SPK10i               21 non-null     object \n",
      " 13  SPK11i               21 non-null     object \n",
      " 14  SPK12i               21 non-null     object \n",
      " 15  SPK13i               21 non-null     object \n",
      " 16  SPK14i               21 non-null     object \n",
      " 17  SPK15i               21 non-null     object \n",
      " 18  SPK16a               21 non-null     object \n",
      " 19  Strobed00030         21 non-null     object \n",
      " 20  Strobed00040         21 non-null     object \n",
      " 21  Strobed00555         21 non-null     object \n",
      " 22  Strobed00666         21 non-null     object \n",
      " 23  Strobed00100         21 non-null     object \n",
      " 24  stimOn_SPK01i        21 non-null     object \n",
      " 25  stimOn_SPK02i        21 non-null     object \n",
      " 26  stimOn_SPK03i        21 non-null     object \n",
      " 27  stimOn_SPK04i        21 non-null     object \n",
      " 28  stimOn_SPK05i        21 non-null     object \n",
      " 29  stimOn_SPK06i        21 non-null     object \n",
      " 30  stimOn_SPK07i        21 non-null     object \n",
      " 31  stimOn_SPK08i        21 non-null     object \n",
      " 32  stimOn_SPK09i        21 non-null     object \n",
      " 33  stimOn_SPK10i        21 non-null     object \n",
      " 34  stimOn_SPK11i        21 non-null     object \n",
      " 35  stimOn_SPK12i        21 non-null     object \n",
      " 36  stimOn_SPK13i        21 non-null     object \n",
      " 37  stimOn_SPK14i        21 non-null     object \n",
      " 38  stimOn_SPK15i        21 non-null     object \n",
      " 39  stimOn_SPK16a        21 non-null     object \n",
      " 40  inRF                 21 non-null     bool   \n",
      " 41  AnalogEyeData        21 non-null     object \n",
      " 42  bhv_code30           21 non-null     object \n",
      " 43  bhv_code40           21 non-null     object \n",
      " 44  bhv_code666          21 non-null     object \n",
      " 45  X_eye                21 non-null     object \n",
      " 46  Y_eye                21 non-null     object \n",
      " 47  saccade_onset        21 non-null     object \n",
      " 48  saccadeStart_SPK01i  21 non-null     object \n",
      " 49  saccadeStart_SPK02i  21 non-null     object \n",
      " 50  saccadeStart_SPK03i  21 non-null     object \n",
      " 51  saccadeStart_SPK04i  21 non-null     object \n",
      " 52  saccadeStart_SPK05i  21 non-null     object \n",
      " 53  saccadeStart_SPK06i  21 non-null     object \n",
      " 54  saccadeStart_SPK07i  21 non-null     object \n",
      " 55  saccadeStart_SPK08i  21 non-null     object \n",
      " 56  saccadeStart_SPK09i  21 non-null     object \n",
      " 57  saccadeStart_SPK10i  21 non-null     object \n",
      " 58  saccadeStart_SPK11i  21 non-null     object \n",
      " 59  saccadeStart_SPK12i  21 non-null     object \n",
      " 60  saccadeStart_SPK13i  21 non-null     object \n",
      " 61  saccadeStart_SPK14i  21 non-null     object \n",
      " 62  saccadeStart_SPK15i  21 non-null     object \n",
      " 63  saccadeStart_SPK16a  21 non-null     object \n",
      "dtypes: bool(1), float64(2), int64(1), object(60)\n",
      "memory usage: 10.5+ KB\n"
     ]
    }
   ],
   "source": [
    "t1_180 = pd.read_pickle( 'T35_083018_t1_delayedSaccade180RFInt.pkl' )\n",
    "print( t1_180.shape )\n",
    "t1_180.info()"
   ]
  },
  {
   "cell_type": "code",
   "execution_count": 22,
   "id": "064dd3eb",
   "metadata": {},
   "outputs": [
    {
     "name": "stdout",
     "output_type": "stream",
     "text": [
      "(41, 50)\n",
      "<class 'pandas.core.frame.DataFrame'>\n",
      "RangeIndex: 41 entries, 0 to 40\n",
      "Data columns (total 50 columns):\n",
      " #   Column               Non-Null Count  Dtype  \n",
      "---  ------               --------------  -----  \n",
      " 0   level_0              41 non-null     int64  \n",
      " 1   index                41 non-null     int64  \n",
      " 2   start                41 non-null     float64\n",
      " 3   end                  41 non-null     float64\n",
      " 4   SPK09i               41 non-null     object \n",
      " 5   SPK10i               41 non-null     object \n",
      " 6   SPK11i               41 non-null     object \n",
      " 7   SPK12i               41 non-null     object \n",
      " 8   SPK13a               41 non-null     object \n",
      " 9   SPK13i               41 non-null     object \n",
      " 10  SPK14i               41 non-null     object \n",
      " 11  SPK15a               41 non-null     object \n",
      " 12  SPK15i               41 non-null     object \n",
      " 13  SPK16a               41 non-null     object \n",
      " 14  SPK16i               41 non-null     object \n",
      " 15  Strobed00030         41 non-null     object \n",
      " 16  Strobed00040         41 non-null     object \n",
      " 17  Strobed00555         41 non-null     object \n",
      " 18  Strobed00666         41 non-null     object \n",
      " 19  Strobed00100         41 non-null     object \n",
      " 20  stimOn_SPK09i        41 non-null     object \n",
      " 21  stimOn_SPK10i        41 non-null     object \n",
      " 22  stimOn_SPK11i        41 non-null     object \n",
      " 23  stimOn_SPK12i        41 non-null     object \n",
      " 24  stimOn_SPK13a        41 non-null     object \n",
      " 25  stimOn_SPK13i        41 non-null     object \n",
      " 26  stimOn_SPK14i        41 non-null     object \n",
      " 27  stimOn_SPK15a        41 non-null     object \n",
      " 28  stimOn_SPK15i        41 non-null     object \n",
      " 29  stimOn_SPK16a        41 non-null     object \n",
      " 30  stimOn_SPK16i        41 non-null     object \n",
      " 31  inRF                 41 non-null     bool   \n",
      " 32  AnalogEyeData        41 non-null     object \n",
      " 33  bhv_code30           41 non-null     object \n",
      " 34  bhv_code40           41 non-null     object \n",
      " 35  bhv_code666          41 non-null     object \n",
      " 36  X_eye                41 non-null     object \n",
      " 37  Y_eye                41 non-null     object \n",
      " 38  saccade_onset        41 non-null     object \n",
      " 39  saccadeStart_SPK09i  41 non-null     object \n",
      " 40  saccadeStart_SPK10i  41 non-null     object \n",
      " 41  saccadeStart_SPK11i  41 non-null     object \n",
      " 42  saccadeStart_SPK12i  41 non-null     object \n",
      " 43  saccadeStart_SPK13a  41 non-null     object \n",
      " 44  saccadeStart_SPK13i  41 non-null     object \n",
      " 45  saccadeStart_SPK14i  41 non-null     object \n",
      " 46  saccadeStart_SPK15a  41 non-null     object \n",
      " 47  saccadeStart_SPK15i  41 non-null     object \n",
      " 48  saccadeStart_SPK16a  41 non-null     object \n",
      " 49  saccadeStart_SPK16i  41 non-null     object \n",
      "dtypes: bool(1), float64(2), int64(2), object(45)\n",
      "memory usage: 15.9+ KB\n"
     ]
    }
   ],
   "source": [
    "t2_180 = pd.read_pickle( 'T35_083018_t2_delayedSaccade180RFInt.pkl' )\n",
    "print( t2_180.shape )\n",
    "t2_180.info()"
   ]
  },
  {
   "cell_type": "code",
   "execution_count": 70,
   "id": "60f2455a",
   "metadata": {},
   "outputs": [],
   "source": [
    "# new plotfunction to show in vs out trials\n",
    "import matplotlib.patches as mpatches\n",
    "\n",
    "# a simple plot of instantaneous firing rate\n",
    "def channelGaussianSmoothed_180( df_in, df_out, channel, sigma, time_axis_limits_ms ):\n",
    "    \"\"\"\n",
    "    Takes in a spiketrain (list of spike times) and returns a smooth firing \n",
    "    rate estimate that does not rely on binnning of a spie train. the instantaneous rate\n",
    "    isa convolution of the spiketrain with a firing rate kernel\n",
    "    \"\"\"\n",
    "    from scipy.ndimage import gaussian_filter1d\n",
    "    \n",
    "    # df_in\n",
    "    num_trials = df_in.shape[0]\n",
    "    spiketrain = df_in[channel].sum()\n",
    "    b = np.arange(time_axis_limits_ms[0], time_axis_limits_ms[1], 1)\n",
    "    (counts, bins) = np.histogram(spiketrain, bins=b)\n",
    "    plt.hist(bins[:-1], bins, weights=counts/num_trials, \n",
    "             color = [0.40, 0.10, 0.10 ],\n",
    "             alpha=0.5)\n",
    "    smoothedSpikes = gaussian_filter1d(counts/num_trials, sigma)\n",
    "    plt.plot( bins[:-1], smoothedSpikes, lw = 2, color = 'r' )\n",
    "    \n",
    "    #df_out\n",
    "    num_trials = df_out.shape[0]\n",
    "    spiketrain = df_out[channel].sum()\n",
    "    b = np.arange(time_axis_limits_ms[0], time_axis_limits_ms[1], 1)\n",
    "    (counts, bins) = np.histogram(spiketrain, bins=b)\n",
    "    plt.hist(bins[:-1], bins, weights=counts/num_trials, \n",
    "             color = [0.1, 0.4, 0.1 ],\n",
    "             alpha=0.5)\n",
    "    smoothedSpikes = gaussian_filter1d(counts/num_trials, sigma)\n",
    "    plt.plot( bins[:-1], smoothedSpikes, lw = 2, color = 'g' )\n",
    "    \n",
    "    red_patch = mpatches.Patch(color='red', label='in RF')\n",
    "    green_patch = mpatches.Patch(color='green', label='out RF')\n",
    "    plt.legend(handles=[red_patch, green_patch])\n",
    "    plt.xlim(time_axis_limits_ms)           \n",
    "    plt.ylabel('spikes/ms')\n",
    "    plt.xlabel(\"time (ms)\")\n",
    "    plt.title(channel)             \n",
    "    plt.axvline(x=0, c = 'k')    \n",
    "\n",
    "# a simple plot of instantaneous firing rate\n",
    "def saccadeStart_GaussianSmoothed_180( df_in, df_out, channel, sigma, time_axis_limits_ms ):\n",
    "    \"\"\"\n",
    "    Takes in a spiketrain (list of spike times) and returns a smooth firing \n",
    "    rate estimate that does not rely on binnning of a spie train. the instantaneous rate\n",
    "    isa convolution of the spiketrain with a firing rate kernel\n",
    "    \"\"\"\n",
    "    from scipy.ndimage import gaussian_filter1d\n",
    "    \n",
    "    # in RF\n",
    "    num_trials = df_in.shape[0]\n",
    "    b = np.arange(time_axis_limits_ms[0], time_axis_limits_ms[1], 1)\n",
    "    neuralData = df_in[channel].sum()      \n",
    "    (counts, bins) = np.histogram(neuralData, bins=b)\n",
    "    plt.hist(bins[:-1], bins, weights=counts/num_trials, \n",
    "             color = [0.4, 0.1, 0.1 ],\n",
    "             alpha=0.5)\n",
    "    smoothedSpikes = gaussian_filter1d(counts/num_trials, sigma)\n",
    "    plt.plot( bins[:-1], smoothedSpikes, lw = 2, color = 'r', label='in RF' )\n",
    "    \n",
    "    # out RF\n",
    "    num_trials = df_out.shape[0]\n",
    "    b = np.arange(time_axis_limits_ms[0], time_axis_limits_ms[1], 1)\n",
    "    neuralData = df_out[channel].sum()      \n",
    "    (counts, bins) = np.histogram(neuralData, bins=b)\n",
    "    plt.hist(bins[:-1], bins, weights=counts/num_trials, \n",
    "             color = [0.1, 0.4, 0.1 ],\n",
    "             alpha=0.5)\n",
    "    smoothedSpikes = gaussian_filter1d(counts/num_trials, sigma)\n",
    "    plt.plot( bins[:-1], smoothedSpikes, lw = 2, color = 'g', label='out RF' )    \n",
    "    \n",
    "    plt.xlim(time_axis_limits_ms)            \n",
    "    plt.ylabel('spikes/ms')  \n",
    "    plt.xlabel(\"time (ms)\")\n",
    "    plt.title(channel)             \n",
    "    plt.axvline(x=0, c = 'k')    \n",
    "\n",
    "def eyespike_dualAligned_180( df, channel, stimon_marker, saccadeinit_marker, time_axis_limits_ms, trial_start, trial_stop=-1 ):\n",
    "    \"\"\"\n",
    "    for delayed saccade 180\n",
    "    subplot X,Y analog eye-traces and smoothed spike histograms\n",
    "    for a given range of trials (trial_start, trial_stop):\n",
    "    plot1 = stimOn spikes align\n",
    "    plot2 = saccade spikes align\n",
    "    plot3 = stimOn eye align\n",
    "    plot4 = saccade eye align\n",
    "    \"\"\"\n",
    "    df_inRF = df[df['inRF']==True].reset_index(drop=True)\n",
    "    df_outRF = df[df['inRF']==False].reset_index(drop=True)\n",
    "    \n",
    "    fig, ax = plt.subplots(nrows=2, ncols=2, sharex=True, sharey=True, figsize=(12, 10))\n",
    "    \n",
    "    plt.subplot( 2,2,3 )\n",
    "    stimOn_label = 'stimOn_' + channel\n",
    "    channelGaussianSmoothed_180( df_inRF, df_outRF, stimOn_label, 10, time_axis_limits_ms )\n",
    "\n",
    "    \n",
    "    plt.subplot( 2,2,4 )\n",
    "    saccadeStart_label = 'saccadeStart_' + channel\n",
    "    saccadeStart_GaussianSmoothed_180( df_inRF, df_outRF, saccadeStart_label, 10, time_axis_limits_ms )\n",
    "    \n",
    "    plt.subplot( 2,2,1 )\n",
    "    for idx,_ in enumerate( df_inRF['AnalogEyeData'][trial_start:trial_stop] ):\n",
    "        length = len( df_inRF['AnalogEyeData'][trial_start + idx] )\n",
    "        x =  np.arange( 0, length ) - df_inRF[stimon_marker][trial_start + idx][0]\n",
    "        plt.plot(x, df_inRF['X_eye'][trial_start + idx], color = 'red')\n",
    "        plt.plot(x, df_inRF['Y_eye'][trial_start + idx], color = 'red')\n",
    "    for idx,_ in enumerate( df_outRF['AnalogEyeData'][trial_start:trial_stop] ):\n",
    "        length = len( df_outRF['AnalogEyeData'][trial_start + idx] )\n",
    "        x =  np.arange( 0, length ) - df_outRF[stimon_marker][trial_start + idx][0]\n",
    "        plt.plot(x, df_outRF['X_eye'][trial_start + idx], color = 'green')\n",
    "        plt.plot(x, df_outRF['Y_eye'][trial_start + idx], color = 'green')\n",
    "    \n",
    "    red_patch = mpatches.Patch(color='red', label='in RF')\n",
    "    green_patch = mpatches.Patch(color='green', label='out RF')\n",
    "    plt.legend(handles=[red_patch, green_patch])\n",
    "    plt.axvline( x=0, color = 'black'  )\n",
    "    plt.ylabel( 'Saccade Amplitude (DVA)' )\n",
    "    plt.title( 'Stimulus Onset' )\n",
    "    plt.xlim( time_axis_limits_ms )  \n",
    "    \n",
    "    plt.subplot( 2,2,2 )\n",
    "    for idx,_ in enumerate( df_inRF['AnalogEyeData'][trial_start:trial_stop] ):\n",
    "        length = len( df_inRF['AnalogEyeData'][trial_start + idx] )\n",
    "        x =  np.arange( 0, length ) - df_inRF[saccadeinit_marker][trial_start + idx][0] - df_inRF[stimon_marker][trial_start + idx][0]\n",
    "        plt.plot(x, df_inRF['X_eye'][trial_start + idx], color = 'red')\n",
    "        plt.plot(x, df_inRF['Y_eye'][trial_start + idx], color = 'red')\n",
    "    for idx,_ in enumerate( df_outRF['AnalogEyeData'][trial_start:trial_stop] ):\n",
    "        length = len( df_outRF['AnalogEyeData'][trial_start + idx] )\n",
    "        x =  np.arange( 0, length ) - df_outRF[saccadeinit_marker][trial_start + idx][0] - df_outRF[stimon_marker][trial_start + idx][0]\n",
    "        plt.plot(x, df_outRF['X_eye'][trial_start + idx], color = 'green')\n",
    "        plt.plot(x, df_outRF['Y_eye'][trial_start + idx], color = 'green')        \n",
    "    plt.title( 'Saccade Onset' )\n",
    "    plt.axvline( x=0, color = 'black'  )\n",
    "    plt.xlim( time_axis_limits_ms )\n",
    "    \n",
    "    return fig"
   ]
  },
  {
   "cell_type": "code",
   "execution_count": 71,
   "id": "12450eaa",
   "metadata": {},
   "outputs": [
    {
     "data": {
      "image/png": "[encoded data removed]",
      "text/plain": [
       "<Figure size 864x720 with 4 Axes>"
      ]
     },
     "metadata": {
      "needs_background": "light"
     },
     "output_type": "display_data"
    }
   ],
   "source": [
    "time_axis_limits_ms = [ -50, 150 ]\n",
    "attempt = eyespike_dualAligned_180( t1_180, 'SPK13i', 'bhv_code40', 'saccade_onset', time_axis_limits_ms, 0  )\n",
    "plt.show( attempt )"
   ]
  },
  {
   "cell_type": "code",
   "execution_count": null,
   "id": "398816f9",
   "metadata": {},
   "outputs": [],
   "source": []
  }
 ],
 "metadata": {
  "kernelspec": {
   "display_name": "Python 3",
   "language": "python",
   "name": "python3"
  },
  "language_info": {
   "codemirror_mode": {
    "name": "ipython",
    "version": 3
   },
   "file_extension": ".py",
   "mimetype": "text/x-python",
   "name": "python",
   "nbconvert_exporter": "python",
   "pygments_lexer": "ipython3",
   "version": "3.7.6"
  }
 },
 "nbformat": 4,
 "nbformat_minor": 5
}
