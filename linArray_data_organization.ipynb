{
 "cells": [
  {
   "cell_type": "markdown",
   "id": "5aa21ab6",
   "metadata": {},
   "source": [
    "# Data Organization for linArray_app"
   ]
  },
  {
   "cell_type": "code",
   "execution_count": 1,
   "id": "800be604",
   "metadata": {},
   "outputs": [],
   "source": [
    "#load libraries\n",
    "from scipy.io import loadmat\n",
    "import pandas as pd\n",
    "import numpy as np\n",
    "import matplotlib.pyplot as plt\n",
    "import seaborn as sns\n",
    "from scipy import signal\n",
    "import math\n",
    "import alignment_functions as af\n",
    "import PyTrack.etDataReader as et"
   ]
  },
  {
   "cell_type": "code",
   "execution_count": null,
   "id": "c5116a6c",
   "metadata": {},
   "outputs": [],
   "source": [
    "#dir( af )"
   ]
  },
  {
   "cell_type": "code",
   "execution_count": 2,
   "id": "99dd3228",
   "metadata": {},
   "outputs": [
    {
     "name": "stdout",
     "output_type": "stream",
     "text": [
      "['T35_083018_t1_spikingDAT.mat', 'T35_083018_t2_spikingDAT.mat', 'T35_083018_t2-01.plx', 'T35_083018_t2.plx', 'T35_083018_t3.plx', 'T35_083018_t1.plx', 'T35_083018_t3_spikingDAT.mat', 'T35_083018_t1-01.plx']\n"
     ]
    }
   ],
   "source": [
    "from os import listdir\n",
    "from os.path import isfile, join\n",
    "mypath = \"/home/bonzilla/Documents/ScienceLife/linArray/linArray_data/\"\n",
    "onlyfiles = [f for f in listdir(mypath) if isfile(join(mypath, f))]\n",
    "print( onlyfiles )"
   ]
  },
  {
   "cell_type": "code",
   "execution_count": null,
   "id": "d00fe9f0",
   "metadata": {},
   "outputs": [],
   "source": [
    "#load .mat into python environment @ new machine\n",
    "chosen_data = onlyfiles[1]\n",
    "linArrayPath = mypath + chosen_data\n",
    "linArrayMat = loadmat( linArrayPath )\n",
    "print(linArrayMat.keys())\n",
    "multi_dSacctrials = af.getMultiChannelTrialData( linArrayMat, 'SPK', 'delayedSaccIntervals' )\n",
    "multi_dSacctrials.shape"
   ]
  },
  {
   "cell_type": "markdown",
   "id": "ccf6f5b0",
   "metadata": {},
   "source": [
    "## Delayed Saccade"
   ]
  },
  {
   "cell_type": "code",
   "execution_count": null,
   "id": "495587cd",
   "metadata": {},
   "outputs": [],
   "source": [
    "multi_dSacctrials = af.getMultiChannelTrialData( linArrayMat, 'SPK', 'delayedSaccIntervals', timeint = [0., 90.] )\n",
    "addStrobes = multi_dSacctrials.copy()\n",
    "addStrobes = af.addEventMarker( linArrayMat, addStrobes, [ 30, 40, 555, 666, 100 ], 'delayedSaccIntervals' )"
   ]
  },
  {
   "cell_type": "code",
   "execution_count": null,
   "id": "a0de9eca",
   "metadata": {},
   "outputs": [],
   "source": [
    "# aligning neural data\n",
    "stimOn = 555 #define the eventmarker for stimulus onset\n",
    "multi_DSalign = af.addStimOnset( addStrobes, stimOn, 'SPK' )"
   ]
  },
  {
   "cell_type": "code",
   "execution_count": null,
   "id": "a6d29904",
   "metadata": {},
   "outputs": [],
   "source": [
    "stimOnCols = af.getDataTypeNames( multi_DSalign, 'stimOn_' ).values.tolist()\n",
    "stimOnCols = [item for sublist in stimOnCols for item in sublist]\n",
    "time_axis_limits_ms = [ -50, 150 ]"
   ]
  },
  {
   "cell_type": "code",
   "execution_count": null,
   "id": "0169c4e0",
   "metadata": {},
   "outputs": [],
   "source": [
    "#load behavioral .mat into python environment\n",
    "path = \"/home/bonzilla/Documents/ScienceLife/linArray/bhv_083018/\"\n",
    "\n",
    "bhv_file = \"180830_Peanut_delayedSaccadeTask_2016_6_8(1)(1).mat\"\n",
    "bhvPath = path + bhv_file #\"180830_Peanut_delayedSaccadeTask_2016_6_8(1)(1).mat\" #holds 22 trials, 14 correct trials Track2 RF mapping == T35_083018_t2_delayedSaccade.pkl\n",
    "#bhvPath = path + bhv_file #\"180830_Peanut_delayedSaccadeTask_2016_6_8(1)(2).mat\" #holds 52 trials, 41 correct trials Track2 RF+180\n",
    "#bhvPath = path + bhv_file #\"180830_Peanut_delayedSaccadeTask_2016_6_8(1)(3).mat\" #holds 82 trials, 70 correct trials ???\n",
    "#bhvPath = path + \"180830_Peanut_delayedSaccadeTask_2016_6_8(1).mat\" #holds 152 trials, 64 correct trials Track1?\n",
    "bhvMat = loadmat( bhvPath )"
   ]
  },
  {
   "cell_type": "code",
   "execution_count": null,
   "id": "52d23995",
   "metadata": {},
   "outputs": [],
   "source": [
    "BHV_df = af.bhvmat2pandasdf( bhvMat )\n",
    "BHV_plusEV = af.addMultiEventVariables( BHV_df, [ 30, 40, 666, 100 ] )\n",
    "print( BHV_plusEV.shape )\n",
    "# select just the correct trials\n",
    "BHV_correct = BHV_plusEV[\n",
    "    BHV_plusEV['Trial_Error']==0].reset_index()\n",
    "print( BHV_correct.shape )"
   ]
  },
  {
   "cell_type": "code",
   "execution_count": null,
   "id": "1a6f262c",
   "metadata": {},
   "outputs": [],
   "source": [
    "#merging neural & behavioral data \n",
    "column_list = [ 'AnalogEyeData', 'bhv_code30', 'bhv_code40', 'bhv_code666' ]\n",
    "mergedDS = af.mergeBehavioralColumn( \n",
    "    multi_DSalign, BHV_correct, column_list )\n",
    "mergedDS = af.split_analog_eye( mergedDS, 'AnalogEyeData' )"
   ]
  },
  {
   "cell_type": "code",
   "execution_count": null,
   "id": "1eb0cd26",
   "metadata": {},
   "outputs": [],
   "source": [
    "merged_bothAlign = af.add_saccade_onsets( mergedDS, 'bhv_code40', 'bhv_code666' )\n",
    "stimOn_eyealign = af.alignments4trials( merged_bothAlign, 'bhv_code40', 'saccade_onset', 0 )\n",
    "plt.show( stimOn_eyealign )"
   ]
  },
  {
   "cell_type": "code",
   "execution_count": null,
   "id": "5c05e789",
   "metadata": {},
   "outputs": [],
   "source": [
    "merged_bothAlign = af.adjustSpikes_SaccadeStart( merged_bothAlign, 'saccade_onset', 'SPK' )"
   ]
  },
  {
   "cell_type": "code",
   "execution_count": null,
   "id": "e840b467",
   "metadata": {},
   "outputs": [],
   "source": [
    "combinedalign = af.eyespike_dualAligned( merged_bothAlign, 'SPK13i', 'bhv_code40', 'saccade_onset', time_axis_limits_ms, 0  )\n",
    "plt.show( combinedalign )"
   ]
  },
  {
   "cell_type": "code",
   "execution_count": null,
   "id": "05d70c64",
   "metadata": {},
   "outputs": [],
   "source": [
    "merged_bothAlign = merged_bothAlign.assign( neuralDat = chosen_data, BHVdat = bhv_file )\n",
    "merged_bothAlign"
   ]
  },
  {
   "cell_type": "code",
   "execution_count": null,
   "id": "e9f8a4ed",
   "metadata": {},
   "outputs": [],
   "source": [
    "merged_bothAlign.to_pickle(\"T35_083018_t1_delayedSaccade.pkl\")"
   ]
  },
  {
   "cell_type": "code",
   "execution_count": null,
   "id": "bb8fee32",
   "metadata": {},
   "outputs": [],
   "source": [
    "t1 = pd.read_pickle(\"T35_083018_t1_delayedSaccade.pkl\")\n",
    "t2 = pd.read_pickle(\"T35_083018_t2_delayedSaccade.pkl\")\n",
    "t3 = pd.read_pickle(\"T35_083018_t3_delayedSaccade.pkl\")\n",
    "\n",
    "ds_df = pd.concat([t1, t2, t3], ignore_index=True)\n",
    "ds_df = ds_df.assign( task = 'delayed saccade' )\n",
    "ds_df.shape"
   ]
  },
  {
   "cell_type": "code",
   "execution_count": null,
   "id": "ae88c721",
   "metadata": {},
   "outputs": [],
   "source": [
    "#ds_df.to_pickle(\"delayedSaccade.pkl\")"
   ]
  },
  {
   "cell_type": "markdown",
   "id": "5d37a258",
   "metadata": {},
   "source": [
    "## catSearchPHYSIOL"
   ]
  },
  {
   "cell_type": "code",
   "execution_count": 3,
   "id": "c0ce7f22",
   "metadata": {},
   "outputs": [
    {
     "name": "stdout",
     "output_type": "stream",
     "text": [
      "dict_keys(['__header__', '__version__', '__globals__', 'SPK01i', 'SPK02i', 'SPK03i', 'SPK04i', 'SPK05i', 'SPK06i', 'SPK07i', 'SPK08i', 'SPK09i', 'SPK10i', 'SPK11i', 'SPK12i', 'SPK13a', 'SPK13i', 'SPK14i', 'SPK15a', 'SPK16a', 'SPK16i', 'Start', 'Stop', 'Strobed00001', 'Strobed00003', 'Strobed00005', 'Strobed00006', 'Strobed00007', 'Strobed00009', 'Strobed00010', 'Strobed00013', 'Strobed00014', 'Strobed00016', 'Strobed00017', 'Strobed00018', 'Strobed00030', 'Strobed00040', 'Strobed00041', 'Strobed00043', 'Strobed00046', 'Strobed00050', 'Strobed00100', 'Strobed00154', 'Strobed00168', 'Strobed00555', 'Strobed00666', 'Strobed01000', 'Strobed04237', 'Strobed05555', 'catSearchPHYSIOLIntervals', 'delayedSaccIntervals', 'plxDataIntervals'])\n",
      "(27, 20)\n",
      "<class 'pandas.core.frame.DataFrame'>\n",
      "RangeIndex: 27 entries, 0 to 26\n",
      "Data columns (total 20 columns):\n",
      " #   Column  Non-Null Count  Dtype  \n",
      "---  ------  --------------  -----  \n",
      " 0   start   27 non-null     float64\n",
      " 1   end     27 non-null     float64\n",
      " 2   SPK01i  27 non-null     object \n",
      " 3   SPK02i  27 non-null     object \n",
      " 4   SPK03i  27 non-null     object \n",
      " 5   SPK04i  27 non-null     object \n",
      " 6   SPK05i  27 non-null     object \n",
      " 7   SPK06i  27 non-null     object \n",
      " 8   SPK07i  27 non-null     object \n",
      " 9   SPK08i  27 non-null     object \n",
      " 10  SPK09i  27 non-null     object \n",
      " 11  SPK10i  27 non-null     object \n",
      " 12  SPK11i  27 non-null     object \n",
      " 13  SPK12i  27 non-null     object \n",
      " 14  SPK13a  27 non-null     object \n",
      " 15  SPK13i  27 non-null     object \n",
      " 16  SPK14i  27 non-null     object \n",
      " 17  SPK15a  27 non-null     object \n",
      " 18  SPK16a  27 non-null     object \n",
      " 19  SPK16i  27 non-null     object \n",
      "dtypes: float64(2), object(18)\n",
      "memory usage: 4.3+ KB\n"
     ]
    }
   ],
   "source": [
    "#load .mat into python environment @ new machine\n",
    "chosen_data = onlyfiles[6]\n",
    "linArrayPath = mypath + chosen_data\n",
    "linArrayMat = loadmat( linArrayPath )\n",
    "print(linArrayMat.keys())\n",
    "\n",
    "# demonstrate getMultiChannelTrialData()\n",
    "# generates a pandas dataframe with a row for each trial, start/end features and columns for each channeldata\n",
    "catSearchtrials = af. getMultiChannelTrialData( linArrayMat, 'SPK', 'catSearchPHYSIOLIntervals' )\n",
    "print( catSearchtrials.shape )\n",
    "catSearchtrials.info()"
   ]
  },
  {
   "cell_type": "code",
   "execution_count": 23,
   "id": "4064abba",
   "metadata": {},
   "outputs": [
    {
     "data": {
      "text/html": [
       "<div>\n",
       "<style scoped>\n",
       "    .dataframe tbody tr th:only-of-type {\n",
       "        vertical-align: middle;\n",
       "    }\n",
       "\n",
       "    .dataframe tbody tr th {\n",
       "        vertical-align: top;\n",
       "    }\n",
       "\n",
       "    .dataframe thead th {\n",
       "        text-align: right;\n",
       "    }\n",
       "</style>\n",
       "<table border=\"1\" class=\"dataframe\">\n",
       "  <thead>\n",
       "    <tr style=\"text-align: right;\">\n",
       "      <th></th>\n",
       "      <th>start</th>\n",
       "      <th>end</th>\n",
       "      <th>SPK01i</th>\n",
       "      <th>SPK02i</th>\n",
       "      <th>SPK03i</th>\n",
       "      <th>SPK04i</th>\n",
       "      <th>SPK05i</th>\n",
       "      <th>SPK06i</th>\n",
       "      <th>SPK07i</th>\n",
       "      <th>SPK08i</th>\n",
       "      <th>...</th>\n",
       "      <th>SPK12i</th>\n",
       "      <th>SPK13a</th>\n",
       "      <th>SPK13i</th>\n",
       "      <th>SPK14i</th>\n",
       "      <th>SPK15a</th>\n",
       "      <th>SPK16a</th>\n",
       "      <th>SPK16i</th>\n",
       "      <th>Strobed00001</th>\n",
       "      <th>Strobed00014</th>\n",
       "      <th>Strobed00040</th>\n",
       "    </tr>\n",
       "  </thead>\n",
       "  <tbody>\n",
       "    <tr>\n",
       "      <th>0</th>\n",
       "      <td>413.8360</td>\n",
       "      <td>416.1285</td>\n",
       "      <td>[]</td>\n",
       "      <td>[]</td>\n",
       "      <td>[]</td>\n",
       "      <td>[]</td>\n",
       "      <td>[]</td>\n",
       "      <td>[]</td>\n",
       "      <td>[]</td>\n",
       "      <td>[]</td>\n",
       "      <td>...</td>\n",
       "      <td>[413.8445, 413.8535, 413.857, 413.86, 413.866,...</td>\n",
       "      <td>[]</td>\n",
       "      <td>[414.4095, 414.6145, 414.7195, 414.773, 414.89...</td>\n",
       "      <td>[413.851, 413.8705, 413.873, 413.8985, 413.913...</td>\n",
       "      <td>[]</td>\n",
       "      <td>[413.845, 414.1215, 414.153, 414.2115, 414.237...</td>\n",
       "      <td>[]</td>\n",
       "      <td>[]</td>\n",
       "      <td>[414.8655]</td>\n",
       "      <td>[414.339]</td>\n",
       "    </tr>\n",
       "    <tr>\n",
       "      <th>1</th>\n",
       "      <td>416.6795</td>\n",
       "      <td>418.8625</td>\n",
       "      <td>[]</td>\n",
       "      <td>[]</td>\n",
       "      <td>[]</td>\n",
       "      <td>[]</td>\n",
       "      <td>[]</td>\n",
       "      <td>[]</td>\n",
       "      <td>[]</td>\n",
       "      <td>[]</td>\n",
       "      <td>...</td>\n",
       "      <td>[416.69, 416.7135, 416.715, 416.7455, 416.7495...</td>\n",
       "      <td>[417.1595]</td>\n",
       "      <td>[]</td>\n",
       "      <td>[416.7845, 416.8405, 416.872, 416.8735, 416.87...</td>\n",
       "      <td>[]</td>\n",
       "      <td>[416.769, 416.8305, 416.875, 416.905, 416.943,...</td>\n",
       "      <td>[]</td>\n",
       "      <td>[]</td>\n",
       "      <td>[417.5905]</td>\n",
       "      <td>[417.097]</td>\n",
       "    </tr>\n",
       "    <tr>\n",
       "      <th>2</th>\n",
       "      <td>419.4035</td>\n",
       "      <td>421.7070</td>\n",
       "      <td>[]</td>\n",
       "      <td>[]</td>\n",
       "      <td>[]</td>\n",
       "      <td>[]</td>\n",
       "      <td>[]</td>\n",
       "      <td>[]</td>\n",
       "      <td>[]</td>\n",
       "      <td>[]</td>\n",
       "      <td>...</td>\n",
       "      <td>[419.4065, 419.4085, 419.413, 419.416, 419.432...</td>\n",
       "      <td>[419.9885, 420.762, 420.796, 420.7985, 420.811...</td>\n",
       "      <td>[419.986, 419.9895, 419.994, 420.7965, 420.802...</td>\n",
       "      <td>[419.429, 419.4595, 419.5015, 419.678, 419.694...</td>\n",
       "      <td>[]</td>\n",
       "      <td>[419.4215, 419.4685, 419.503, 419.555, 419.586...</td>\n",
       "      <td>[]</td>\n",
       "      <td>[]</td>\n",
       "      <td>[420.466]</td>\n",
       "      <td>[419.9135]</td>\n",
       "    </tr>\n",
       "    <tr>\n",
       "      <th>3</th>\n",
       "      <td>431.6395</td>\n",
       "      <td>434.3725</td>\n",
       "      <td>[]</td>\n",
       "      <td>[]</td>\n",
       "      <td>[]</td>\n",
       "      <td>[]</td>\n",
       "      <td>[]</td>\n",
       "      <td>[]</td>\n",
       "      <td>[]</td>\n",
       "      <td>[]</td>\n",
       "      <td>...</td>\n",
       "      <td>[431.6395, 431.651, 431.6585, 431.6605, 431.66...</td>\n",
       "      <td>[431.655, 431.673, 431.7135, 431.73, 431.753, ...</td>\n",
       "      <td>[431.656, 431.7285, 431.745, 431.786, 431.9095]</td>\n",
       "      <td>[431.6775, 431.6785, 431.6795, 431.681, 431.68...</td>\n",
       "      <td>[]</td>\n",
       "      <td>[431.6515, 431.689, 431.7875, 431.891, 431.999...</td>\n",
       "      <td>[]</td>\n",
       "      <td>[]</td>\n",
       "      <td>[433.056]</td>\n",
       "      <td>[432.555]</td>\n",
       "    </tr>\n",
       "    <tr>\n",
       "      <th>4</th>\n",
       "      <td>434.9135</td>\n",
       "      <td>437.0965</td>\n",
       "      <td>[]</td>\n",
       "      <td>[]</td>\n",
       "      <td>[]</td>\n",
       "      <td>[]</td>\n",
       "      <td>[]</td>\n",
       "      <td>[]</td>\n",
       "      <td>[]</td>\n",
       "      <td>[]</td>\n",
       "      <td>...</td>\n",
       "      <td>[434.939, 434.9445, 434.946, 434.9545, 434.957...</td>\n",
       "      <td>[435.389, 435.6455, 436.841, 436.843, 436.845,...</td>\n",
       "      <td>[435.3815, 435.435, 435.475, 435.5205, 436.491...</td>\n",
       "      <td>[435.0135, 435.0155, 435.02, 435.0775, 435.112...</td>\n",
       "      <td>[]</td>\n",
       "      <td>[434.935, 434.976, 435.051, 435.0545, 435.0755...</td>\n",
       "      <td>[]</td>\n",
       "      <td>[]</td>\n",
       "      <td>[435.831]</td>\n",
       "      <td>[435.3135]</td>\n",
       "    </tr>\n",
       "  </tbody>\n",
       "</table>\n",
       "<p>5 rows × 23 columns</p>\n",
       "</div>"
      ],
      "text/plain": [
       "      start       end SPK01i SPK02i SPK03i SPK04i SPK05i SPK06i SPK07i SPK08i  \\\n",
       "0  413.8360  416.1285     []     []     []     []     []     []     []     []   \n",
       "1  416.6795  418.8625     []     []     []     []     []     []     []     []   \n",
       "2  419.4035  421.7070     []     []     []     []     []     []     []     []   \n",
       "3  431.6395  434.3725     []     []     []     []     []     []     []     []   \n",
       "4  434.9135  437.0965     []     []     []     []     []     []     []     []   \n",
       "\n",
       "   ...                                             SPK12i  \\\n",
       "0  ...  [413.8445, 413.8535, 413.857, 413.86, 413.866,...   \n",
       "1  ...  [416.69, 416.7135, 416.715, 416.7455, 416.7495...   \n",
       "2  ...  [419.4065, 419.4085, 419.413, 419.416, 419.432...   \n",
       "3  ...  [431.6395, 431.651, 431.6585, 431.6605, 431.66...   \n",
       "4  ...  [434.939, 434.9445, 434.946, 434.9545, 434.957...   \n",
       "\n",
       "                                              SPK13a  \\\n",
       "0                                                 []   \n",
       "1                                         [417.1595]   \n",
       "2  [419.9885, 420.762, 420.796, 420.7985, 420.811...   \n",
       "3  [431.655, 431.673, 431.7135, 431.73, 431.753, ...   \n",
       "4  [435.389, 435.6455, 436.841, 436.843, 436.845,...   \n",
       "\n",
       "                                              SPK13i  \\\n",
       "0  [414.4095, 414.6145, 414.7195, 414.773, 414.89...   \n",
       "1                                                 []   \n",
       "2  [419.986, 419.9895, 419.994, 420.7965, 420.802...   \n",
       "3    [431.656, 431.7285, 431.745, 431.786, 431.9095]   \n",
       "4  [435.3815, 435.435, 435.475, 435.5205, 436.491...   \n",
       "\n",
       "                                              SPK14i SPK15a  \\\n",
       "0  [413.851, 413.8705, 413.873, 413.8985, 413.913...     []   \n",
       "1  [416.7845, 416.8405, 416.872, 416.8735, 416.87...     []   \n",
       "2  [419.429, 419.4595, 419.5015, 419.678, 419.694...     []   \n",
       "3  [431.6775, 431.6785, 431.6795, 431.681, 431.68...     []   \n",
       "4  [435.0135, 435.0155, 435.02, 435.0775, 435.112...     []   \n",
       "\n",
       "                                              SPK16a SPK16i Strobed00001  \\\n",
       "0  [413.845, 414.1215, 414.153, 414.2115, 414.237...     []           []   \n",
       "1  [416.769, 416.8305, 416.875, 416.905, 416.943,...     []           []   \n",
       "2  [419.4215, 419.4685, 419.503, 419.555, 419.586...     []           []   \n",
       "3  [431.6515, 431.689, 431.7875, 431.891, 431.999...     []           []   \n",
       "4  [434.935, 434.976, 435.051, 435.0545, 435.0755...     []           []   \n",
       "\n",
       "  Strobed00014 Strobed00040  \n",
       "0   [414.8655]    [414.339]  \n",
       "1   [417.5905]    [417.097]  \n",
       "2    [420.466]   [419.9135]  \n",
       "3    [433.056]    [432.555]  \n",
       "4    [435.831]   [435.3135]  \n",
       "\n",
       "[5 rows x 23 columns]"
      ]
     },
     "execution_count": 23,
     "metadata": {},
     "output_type": "execute_result"
    }
   ],
   "source": [
    "catSearchaddStrobes = catSearchtrials.copy()\n",
    "af.addEventMarker( linArrayMat, catSearchaddStrobes, [ 1, 14, 40 ], 'catSearchPHYSIOLIntervals' )\n",
    "catSearchaddStrobes.head()"
   ]
  },
  {
   "cell_type": "code",
   "execution_count": 25,
   "id": "dc4a9d5c",
   "metadata": {},
   "outputs": [],
   "source": [
    "# aligning neural data\n",
    "stimOn = 40 #define the eventmarker for stimulus onset\n",
    "catSearch_multi_DSalign = af.addStimOnset( catSearchaddStrobes, stimOn, 'SPK' )"
   ]
  },
  {
   "cell_type": "code",
   "execution_count": 26,
   "id": "e3be996a",
   "metadata": {},
   "outputs": [
    {
     "name": "stdout",
     "output_type": "stream",
     "text": [
      "['stimOn_SPK01i', 'stimOn_SPK02i', 'stimOn_SPK03i', 'stimOn_SPK04i', 'stimOn_SPK05i', 'stimOn_SPK06i', 'stimOn_SPK07i', 'stimOn_SPK08i', 'stimOn_SPK09i', 'stimOn_SPK10i', 'stimOn_SPK11i', 'stimOn_SPK12i', 'stimOn_SPK13a', 'stimOn_SPK13i', 'stimOn_SPK14i', 'stimOn_SPK15a', 'stimOn_SPK16a', 'stimOn_SPK16i']\n"
     ]
    }
   ],
   "source": [
    "stimOnCols = af.getDataTypeNames( catSearch_multi_DSalign, 'stimOn_' ).values.tolist()\n",
    "stimOnCols = [item for sublist in stimOnCols for item in sublist]\n",
    "print( stimOnCols )\n",
    "time_axis_limits_ms = [ -50, 150 ]"
   ]
  },
  {
   "cell_type": "code",
   "execution_count": 27,
   "id": "f3eeb0f7",
   "metadata": {},
   "outputs": [],
   "source": [
    "#load behavioral .mat into python environment\n",
    "path = \"/home/bonzilla/Documents/ScienceLife/linArray/bhv_083018/\"\n",
    "#bhv_file = \"180830_Peanut_CatSearch_Physiol_ML2_2018_8_30(1).mat\"\n",
    "bhv_file = \"180830_Peanut_CatSearch_Physiol_ML2_2018_8_30(2).mat\"\n",
    "bhvPath = path + bhv_file \n",
    "bhvMat = loadmat( bhvPath )"
   ]
  },
  {
   "cell_type": "code",
   "execution_count": 28,
   "id": "20c21e96",
   "metadata": {},
   "outputs": [
    {
     "name": "stdout",
     "output_type": "stream",
     "text": [
      "(159, 12)\n",
      "(27, 13)\n"
     ]
    }
   ],
   "source": [
    "BHV_df = af.catSearchPHYSIOL2pandasdf( bhvMat )\n",
    "BHV_plusEV = af.addMultiEventVariables( BHV_df, [ 1, 40, 14 ] )\n",
    "print( BHV_plusEV.shape )\n",
    "# select just the correct trials\n",
    "BHV_correct = BHV_plusEV[\n",
    "    BHV_plusEV['Trial_Error']==0].reset_index()\n",
    "print( BHV_correct.shape )"
   ]
  },
  {
   "cell_type": "code",
   "execution_count": 29,
   "id": "af9cd0c6",
   "metadata": {},
   "outputs": [],
   "source": [
    "#merging neural & behavioral data \n",
    "column_list = [ 'AnalogEyeData', 'bhv_code1', 'bhv_code40', 'bhv_code14' ]\n",
    "mergedDS = af.mergeBehavioralColumn( \n",
    "    catSearch_multi_DSalign, BHV_correct, column_list )\n",
    "mergedDS = af.split_analog_eye( mergedDS, 'AnalogEyeData' )"
   ]
  },
  {
   "cell_type": "code",
   "execution_count": 30,
   "id": "77fb12cd",
   "metadata": {},
   "outputs": [
    {
     "data": {
      "image/png": "[encoded data removed]",
      "text/plain": [
       "<Figure size 720x576 with 3 Axes>"
      ]
     },
     "metadata": {
      "needs_background": "light"
     },
     "output_type": "display_data"
    }
   ],
   "source": [
    "catSearch_stimOn_align = af.eyespike_stimOnAligned( mergedDS, 'SPK13i', 'bhv_code40', time_axis_limits_ms, 0  )\n",
    "plt.show( catSearch_stimOn_align )"
   ]
  },
  {
   "cell_type": "code",
   "execution_count": 32,
   "id": "0656b73d",
   "metadata": {},
   "outputs": [
    {
     "name": "stdout",
     "output_type": "stream",
     "text": [
      "T35_083018_t3_spikingDAT.mat\n"
     ]
    }
   ],
   "source": [
    "#print( chosen_data )\n",
    "#T35_083018_t3_catSearchPHYSIOL = mergedDS\n",
    "#T35_083018_t3_catSearchPHYSIOL.to_pickle(\"T35_083018_t3_catSearchPHYSIOL.pkl\")"
   ]
  },
  {
   "cell_type": "code",
   "execution_count": null,
   "id": "31f0aa98",
   "metadata": {},
   "outputs": [],
   "source": []
  },
  {
   "cell_type": "code",
   "execution_count": null,
   "id": "dc2283d7",
   "metadata": {},
   "outputs": [],
   "source": []
  },
  {
   "cell_type": "code",
   "execution_count": null,
   "id": "4fc70a3d",
   "metadata": {},
   "outputs": [],
   "source": []
  }
 ],
 "metadata": {
  "kernelspec": {
   "display_name": "Python 3",
   "language": "python",
   "name": "python3"
  },
  "language_info": {
   "codemirror_mode": {
    "name": "ipython",
    "version": 3
   },
   "file_extension": ".py",
   "mimetype": "text/x-python",
   "name": "python",
   "nbconvert_exporter": "python",
   "pygments_lexer": "ipython3",
   "version": "3.7.6"
  }
 },
 "nbformat": 4,
 "nbformat_minor": 5
}
