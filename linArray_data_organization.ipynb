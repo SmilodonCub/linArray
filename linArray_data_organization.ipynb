{
 "cells": [
  {
   "cell_type": "markdown",
   "id": "5aa21ab6",
   "metadata": {},
   "source": [
    "# Data Organization for linArray_app"
   ]
  },
  {
   "cell_type": "code",
   "execution_count": null,
   "id": "800be604",
   "metadata": {},
   "outputs": [],
   "source": [
    "#load libraries\n",
    "from scipy.io import loadmat\n",
    "import pandas as pd\n",
    "import numpy as np\n",
    "import matplotlib.pyplot as plt\n",
    "import seaborn as sns\n",
    "from scipy import signal\n",
    "import math\n",
    "import alignment_functions as af\n",
    "import PyTrack.etDataReader as et"
   ]
  },
  {
   "cell_type": "code",
   "execution_count": null,
   "id": "c5116a6c",
   "metadata": {},
   "outputs": [],
   "source": [
    "#dir( af )"
   ]
  },
  {
   "cell_type": "code",
   "execution_count": null,
   "id": "99dd3228",
   "metadata": {},
   "outputs": [],
   "source": [
    "from os import listdir\n",
    "from os.path import isfile, join\n",
    "mypath = \"/home/bonzilla/Documents/ScienceLife/linArray/linArray_data/\"\n",
    "onlyfiles = [f for f in listdir(mypath) if isfile(join(mypath, f))]\n",
    "print( onlyfiles )"
   ]
  },
  {
   "cell_type": "code",
   "execution_count": null,
   "id": "d00fe9f0",
   "metadata": {},
   "outputs": [],
   "source": [
    "#load .mat into python environment @ new machine\n",
    "chosen_data = onlyfiles[1]\n",
    "linArrayPath = mypath + chosen_data\n",
    "linArrayMat = loadmat( linArrayPath )"
   ]
  },
  {
   "cell_type": "code",
   "execution_count": null,
   "id": "7560b117",
   "metadata": {},
   "outputs": [],
   "source": [
    "multi_dSacctrials = af.getMultiChannelTrialData( linArrayMat, 'SPK', 'delayedSaccIntervals' )\n",
    "multi_dSacctrials.shape"
   ]
  },
  {
   "cell_type": "code",
   "execution_count": null,
   "id": "86684dde",
   "metadata": {},
   "outputs": [],
   "source": [
    "multi_dSacctrials = af.getMultiChannelTrialData( linArrayMat, 'SPK', 'delayedSaccIntervals', timeint = [0., 88.] )\n",
    "addStrobes = multi_dSacctrials.copy()\n",
    "addStrobes = af.addEventMarker( linArrayMat, addStrobes, [ 30, 40, 555, 666, 100 ], 'delayedSaccIntervals' )"
   ]
  },
  {
   "cell_type": "code",
   "execution_count": null,
   "id": "a838f257",
   "metadata": {},
   "outputs": [],
   "source": [
    "# aligning neural data\n",
    "stimOn = 555 #define the eventmarker for stimulus onset\n",
    "multi_DSalign = af.addStimOnset( addStrobes, stimOn, 'SPK' )"
   ]
  },
  {
   "cell_type": "code",
   "execution_count": null,
   "id": "24d17b89",
   "metadata": {},
   "outputs": [],
   "source": [
    "stimOnCols = af.getDataTypeNames( multi_DSalign, 'stimOn_' ).values.tolist()\n",
    "stimOnCols = [item for sublist in stimOnCols for item in sublist]\n",
    "time_axis_limits_ms = [ -50, 150 ]"
   ]
  },
  {
   "cell_type": "code",
   "execution_count": null,
   "id": "dc1498a0",
   "metadata": {},
   "outputs": [],
   "source": [
    "#load behavioral .mat into python environment\n",
    "path = \"/home/bonzilla/Documents/ScienceLife/linArray/bhv_083018/\"\n",
    "\n",
    "bhv_file = \"180830_Peanut_delayedSaccadeTask_2016_6_8(1)(1).mat\"\n",
    "bhvPath = path + bhv_file #\"180830_Peanut_delayedSaccadeTask_2016_6_8(1)(1).mat\" #holds 22 trials, 14 correct trials Track2 RF mapping == T35_083018_t2_delayedSaccade.pkl\n",
    "#bhvPath = path + \"180830_Peanut_delayedSaccadeTask_2016_6_8(1)(2).mat\" #holds 52 trials, 41 correct trials Track2 RF+180\n",
    "#bhvPath = path + \"180830_Peanut_delayedSaccadeTask_2016_6_8(1)(3).mat\" #holds 82 trials, 70 correct trials ???\n",
    "#bhvPath = path + \"180830_Peanut_delayedSaccadeTask_2016_6_8(1).mat\" #holds 152 trials, 64 correct trials Track1?\n",
    "bhvMat = loadmat( bhvPath )"
   ]
  },
  {
   "cell_type": "code",
   "execution_count": null,
   "id": "4d547267",
   "metadata": {},
   "outputs": [],
   "source": [
    "BHV_df = af.bhvmat2pandasdf( bhvMat )\n",
    "BHV_plusEV = af.addMultiEventVariables( BHV_df, [ 30, 40, 666, 100 ] )\n",
    "print( BHV_plusEV.shape )\n",
    "# select just the correct trials\n",
    "BHV_correct = BHV_plusEV[\n",
    "    BHV_plusEV['Trial_Error']==0].reset_index()\n",
    "print( BHV_correct.shape )"
   ]
  },
  {
   "cell_type": "code",
   "execution_count": null,
   "id": "c370ed2a",
   "metadata": {},
   "outputs": [],
   "source": [
    "#merging neural & behavioral data \n",
    "column_list = [ 'AnalogEyeData', 'bhv_code30', 'bhv_code40', 'bhv_code666' ]\n",
    "mergedDS = af.mergeBehavioralColumn( \n",
    "    multi_DSalign, BHV_correct, column_list )\n",
    "mergedDS = af.split_analog_eye( mergedDS, 'AnalogEyeData' )"
   ]
  },
  {
   "cell_type": "code",
   "execution_count": null,
   "id": "663f366e",
   "metadata": {},
   "outputs": [],
   "source": [
    "merged_bothAlign = af.add_saccade_onsets( mergedDS, 'bhv_code40', 'bhv_code666' )\n",
    "stimOn_eyealign = af.alignments4trials( merged_bothAlign, 'bhv_code40', 'saccade_onset', 0 )\n",
    "plt.show( stimOn_eyealign )"
   ]
  },
  {
   "cell_type": "code",
   "execution_count": null,
   "id": "a721d7ca",
   "metadata": {},
   "outputs": [],
   "source": [
    "merged_bothAlign = af.adjustSpikes_SaccadeStart( merged_bothAlign, 'saccade_onset', 'SPK' )"
   ]
  },
  {
   "cell_type": "code",
   "execution_count": null,
   "id": "f4069444",
   "metadata": {},
   "outputs": [],
   "source": [
    "combinedalign = af.eyespike_dualAligned( merged_bothAlign, 'SPK13i', 'bhv_code40', 'saccade_onset', time_axis_limits_ms, 0  )\n",
    "plt.show( combinedalign )"
   ]
  },
  {
   "cell_type": "code",
   "execution_count": null,
   "id": "2e91a5b5",
   "metadata": {},
   "outputs": [],
   "source": [
    "merged_bothAlign = merged_bothAlign.assign( neuralDat = chosen_data, BHVdat = bhv_file )"
   ]
  },
  {
   "cell_type": "code",
   "execution_count": null,
   "id": "bc696df7",
   "metadata": {},
   "outputs": [],
   "source": [
    "#merged_bothAlign.to_pickle(\"T35_083018_t2_delayedSaccade.pkl\")"
   ]
  }
 ],
 "metadata": {
  "kernelspec": {
   "display_name": "Python 3",
   "language": "python",
   "name": "python3"
  },
  "language_info": {
   "codemirror_mode": {
    "name": "ipython",
    "version": 3
   },
   "file_extension": ".py",
   "mimetype": "text/x-python",
   "name": "python",
   "nbconvert_exporter": "python",
   "pygments_lexer": "ipython3",
   "version": "3.7.6"
  }
 },
 "nbformat": 4,
 "nbformat_minor": 5
}
