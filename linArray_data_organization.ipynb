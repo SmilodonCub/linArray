{
 "cells": [
  {
   "cell_type": "markdown",
   "id": "5aa21ab6",
   "metadata": {},
   "source": [
    "# Data Organization for linArray_app"
   ]
  },
  {
   "cell_type": "code",
   "execution_count": 1,
   "id": "800be604",
   "metadata": {},
   "outputs": [],
   "source": [
    "#load libraries\n",
    "from scipy.io import loadmat\n",
    "import pandas as pd\n",
    "import numpy as np\n",
    "import matplotlib.pyplot as plt\n",
    "import seaborn as sns\n",
    "from scipy import signal\n",
    "import math\n",
    "import alignment_functions as af\n",
    "import PyTrack.etDataReader as et"
   ]
  },
  {
   "cell_type": "code",
   "execution_count": null,
   "id": "c5116a6c",
   "metadata": {},
   "outputs": [],
   "source": [
    "#dir( af )"
   ]
  },
  {
   "cell_type": "code",
   "execution_count": 2,
   "id": "99dd3228",
   "metadata": {},
   "outputs": [
    {
     "name": "stdout",
     "output_type": "stream",
     "text": [
      "['T35_083018_t1_spikingDAT.mat', 'T35_083018_t2_spikingDAT.mat', 'T35_083018_t2-01.plx', 'T35_083018_t2.plx', 'T35_083018_t3.plx', 'T35_083018_t1.plx', 'T35_083018_t3_spikingDAT.mat', 'T35_083018_t1-01.plx']\n"
     ]
    }
   ],
   "source": [
    "from os import listdir\n",
    "from os.path import isfile, join\n",
    "mypath = \"/home/bonzilla/Documents/ScienceLife/linArray/linArray_data/\"\n",
    "onlyfiles = [f for f in listdir(mypath) if isfile(join(mypath, f))]\n",
    "print( onlyfiles )"
   ]
  },
  {
   "cell_type": "code",
   "execution_count": null,
   "id": "d00fe9f0",
   "metadata": {},
   "outputs": [],
   "source": [
    "#load .mat into python environment @ new machine\n",
    "chosen_data = onlyfiles[0]\n",
    "linArrayPath = mypath + chosen_data\n",
    "linArrayMat = loadmat( linArrayPath )\n",
    "multi_dSacctrials = af.getMultiChannelTrialData( linArrayMat, 'SPK', 'delayedSaccIntervals' )\n",
    "multi_dSacctrials.shape"
   ]
  },
  {
   "cell_type": "markdown",
   "id": "aecdf216",
   "metadata": {},
   "source": [
    "## Delayed Saccade"
   ]
  },
  {
   "cell_type": "code",
   "execution_count": null,
   "id": "4d1595fe",
   "metadata": {},
   "outputs": [],
   "source": [
    "multi_dSacctrials = af.getMultiChannelTrialData( linArrayMat, 'SPK', 'delayedSaccIntervals', timeint = [0., 90.] )\n",
    "addStrobes = multi_dSacctrials.copy()\n",
    "addStrobes = af.addEventMarker( linArrayMat, addStrobes, [ 30, 40, 555, 666, 100 ], 'delayedSaccIntervals' )"
   ]
  },
  {
   "cell_type": "code",
   "execution_count": null,
   "id": "7a647783",
   "metadata": {},
   "outputs": [],
   "source": [
    "# aligning neural data\n",
    "stimOn = 555 #define the eventmarker for stimulus onset\n",
    "multi_DSalign = af.addStimOnset( addStrobes, stimOn, 'SPK' )"
   ]
  },
  {
   "cell_type": "code",
   "execution_count": null,
   "id": "bae656c7",
   "metadata": {},
   "outputs": [],
   "source": [
    "stimOnCols = af.getDataTypeNames( multi_DSalign, 'stimOn_' ).values.tolist()\n",
    "stimOnCols = [item for sublist in stimOnCols for item in sublist]\n",
    "time_axis_limits_ms = [ -50, 150 ]"
   ]
  },
  {
   "cell_type": "code",
   "execution_count": null,
   "id": "ce0b8e92",
   "metadata": {},
   "outputs": [],
   "source": [
    "#load behavioral .mat into python environment\n",
    "path = \"/home/bonzilla/Documents/ScienceLife/linArray/bhv_083018/\"\n",
    "\n",
    "bhv_file = \"180830_Peanut_delayedSaccadeTask_2016_6_8(1)(1).mat\"\n",
    "bhvPath = path + bhv_file #\"180830_Peanut_delayedSaccadeTask_2016_6_8(1)(1).mat\" #holds 22 trials, 14 correct trials Track2 RF mapping == T35_083018_t2_delayedSaccade.pkl\n",
    "#bhvPath = path + bhv_file #\"180830_Peanut_delayedSaccadeTask_2016_6_8(1)(2).mat\" #holds 52 trials, 41 correct trials Track2 RF+180\n",
    "#bhvPath = path + bhv_file #\"180830_Peanut_delayedSaccadeTask_2016_6_8(1)(3).mat\" #holds 82 trials, 70 correct trials ???\n",
    "#bhvPath = path + \"180830_Peanut_delayedSaccadeTask_2016_6_8(1).mat\" #holds 152 trials, 64 correct trials Track1?\n",
    "bhvMat = loadmat( bhvPath )"
   ]
  },
  {
   "cell_type": "code",
   "execution_count": null,
   "id": "9afb2808",
   "metadata": {},
   "outputs": [],
   "source": [
    "BHV_df = af.bhvmat2pandasdf( bhvMat )\n",
    "BHV_plusEV = af.addMultiEventVariables( BHV_df, [ 30, 40, 666, 100 ] )\n",
    "print( BHV_plusEV.shape )\n",
    "# select just the correct trials\n",
    "BHV_correct = BHV_plusEV[\n",
    "    BHV_plusEV['Trial_Error']==0].reset_index()\n",
    "print( BHV_correct.shape )"
   ]
  },
  {
   "cell_type": "code",
   "execution_count": null,
   "id": "0b0a06db",
   "metadata": {},
   "outputs": [],
   "source": [
    "#merging neural & behavioral data \n",
    "column_list = [ 'AnalogEyeData', 'bhv_code30', 'bhv_code40', 'bhv_code666' ]\n",
    "mergedDS = af.mergeBehavioralColumn( \n",
    "    multi_DSalign, BHV_correct, column_list )\n",
    "mergedDS = af.split_analog_eye( mergedDS, 'AnalogEyeData' )"
   ]
  },
  {
   "cell_type": "code",
   "execution_count": null,
   "id": "a17dfd0e",
   "metadata": {},
   "outputs": [],
   "source": [
    "merged_bothAlign = af.add_saccade_onsets( mergedDS, 'bhv_code40', 'bhv_code666' )\n",
    "stimOn_eyealign = af.alignments4trials( merged_bothAlign, 'bhv_code40', 'saccade_onset', 0 )\n",
    "plt.show( stimOn_eyealign )"
   ]
  },
  {
   "cell_type": "code",
   "execution_count": null,
   "id": "3ef561a7",
   "metadata": {},
   "outputs": [],
   "source": [
    "merged_bothAlign = af.adjustSpikes_SaccadeStart( merged_bothAlign, 'saccade_onset', 'SPK' )"
   ]
  },
  {
   "cell_type": "code",
   "execution_count": null,
   "id": "57ad454a",
   "metadata": {},
   "outputs": [],
   "source": [
    "combinedalign = af.eyespike_dualAligned( merged_bothAlign, 'SPK13i', 'bhv_code40', 'saccade_onset', time_axis_limits_ms, 0  )\n",
    "plt.show( combinedalign )"
   ]
  },
  {
   "cell_type": "code",
   "execution_count": null,
   "id": "e9344339",
   "metadata": {},
   "outputs": [],
   "source": [
    "merged_bothAlign = merged_bothAlign.assign( neuralDat = chosen_data, BHVdat = bhv_file )\n",
    "merged_bothAlign"
   ]
  },
  {
   "cell_type": "code",
   "execution_count": null,
   "id": "2bdb2585",
   "metadata": {},
   "outputs": [],
   "source": [
    "merged_bothAlign.to_pickle(\"T35_083018_t1_delayedSaccade.pkl\")"
   ]
  },
  {
   "cell_type": "code",
   "execution_count": null,
   "id": "3aa5f899",
   "metadata": {},
   "outputs": [],
   "source": [
    "t1 = pd.read_pickle(\"T35_083018_t1_delayedSaccade.pkl\")\n",
    "t2 = pd.read_pickle(\"T35_083018_t2_delayedSaccade.pkl\")\n",
    "t3 = pd.read_pickle(\"T35_083018_t3_delayedSaccade.pkl\")\n",
    "\n",
    "ds_df = pd.concat([t1, t2, t3], ignore_index=True)\n",
    "ds_df = ds_df.assign( task = 'delayed saccade' )\n",
    "ds_df.shape"
   ]
  },
  {
   "cell_type": "code",
   "execution_count": null,
   "id": "0f09c32e",
   "metadata": {},
   "outputs": [],
   "source": [
    "#ds_df.to_pickle(\"delayedSaccade.pkl\")"
   ]
  },
  {
   "cell_type": "markdown",
   "id": "a2c5a81e",
   "metadata": {},
   "source": [
    "## catSearchPHYSIOL"
   ]
  },
  {
   "cell_type": "code",
   "execution_count": 11,
   "id": "7cc921c7",
   "metadata": {},
   "outputs": [
    {
     "name": "stdout",
     "output_type": "stream",
     "text": [
      "(150, 13)\n",
      "<class 'pandas.core.frame.DataFrame'>\n",
      "RangeIndex: 150 entries, 0 to 149\n",
      "Data columns (total 13 columns):\n",
      " #   Column  Non-Null Count  Dtype  \n",
      "---  ------  --------------  -----  \n",
      " 0   start   150 non-null    float64\n",
      " 1   end     150 non-null    float64\n",
      " 2   SPK09i  150 non-null    object \n",
      " 3   SPK10i  150 non-null    object \n",
      " 4   SPK11i  150 non-null    object \n",
      " 5   SPK12i  150 non-null    object \n",
      " 6   SPK13a  150 non-null    object \n",
      " 7   SPK13i  150 non-null    object \n",
      " 8   SPK14i  150 non-null    object \n",
      " 9   SPK15a  150 non-null    object \n",
      " 10  SPK15i  150 non-null    object \n",
      " 11  SPK16a  150 non-null    object \n",
      " 12  SPK16i  150 non-null    object \n",
      "dtypes: float64(2), object(11)\n",
      "memory usage: 15.4+ KB\n"
     ]
    }
   ],
   "source": [
    "#load .mat into python environment @ new machine\n",
    "chosen_data = onlyfiles[1]\n",
    "linArrayPath = mypath + chosen_data\n",
    "linArrayMat = loadmat( linArrayPath )\n",
    "\n",
    "# demonstrate getMultiChannelTrialData()\n",
    "# generates a pandas dataframe with a row for each trial, start/end features and columns for each channeldata\n",
    "catSearchtrials = af. getMultiChannelTrialData( linArrayMat, 'SPK', 'catSearchPHYSIOLIntervals' )\n",
    "print( catSearchtrials.shape )\n",
    "catSearchtrials.info()"
   ]
  },
  {
   "cell_type": "code",
   "execution_count": 12,
   "id": "ef17e9b9",
   "metadata": {},
   "outputs": [
    {
     "data": {
      "text/html": [
       "<div>\n",
       "<style scoped>\n",
       "    .dataframe tbody tr th:only-of-type {\n",
       "        vertical-align: middle;\n",
       "    }\n",
       "\n",
       "    .dataframe tbody tr th {\n",
       "        vertical-align: top;\n",
       "    }\n",
       "\n",
       "    .dataframe thead th {\n",
       "        text-align: right;\n",
       "    }\n",
       "</style>\n",
       "<table border=\"1\" class=\"dataframe\">\n",
       "  <thead>\n",
       "    <tr style=\"text-align: right;\">\n",
       "      <th></th>\n",
       "      <th>start</th>\n",
       "      <th>end</th>\n",
       "      <th>SPK09i</th>\n",
       "      <th>SPK10i</th>\n",
       "      <th>SPK11i</th>\n",
       "      <th>SPK12i</th>\n",
       "      <th>SPK13a</th>\n",
       "      <th>SPK13i</th>\n",
       "      <th>SPK14i</th>\n",
       "      <th>SPK15a</th>\n",
       "      <th>SPK15i</th>\n",
       "      <th>SPK16a</th>\n",
       "      <th>SPK16i</th>\n",
       "      <th>Strobed00001</th>\n",
       "      <th>Strobed00040</th>\n",
       "      <th>Strobed00666</th>\n",
       "    </tr>\n",
       "  </thead>\n",
       "  <tbody>\n",
       "    <tr>\n",
       "      <th>0</th>\n",
       "      <td>362.9720</td>\n",
       "      <td>366.9035</td>\n",
       "      <td>[363.019, 363.088, 363.0915, 363.0955, 363.113...</td>\n",
       "      <td>[363.222, 363.3275, 363.4275, 363.523, 363.822...</td>\n",
       "      <td>[362.973, 362.9765, 362.989, 362.995, 363.001,...</td>\n",
       "      <td>[362.972, 362.975, 362.9755, 362.979, 362.9895...</td>\n",
       "      <td>[363.8265, 363.8295, 363.833, 363.836, 363.871...</td>\n",
       "      <td>[363.8275, 363.8335, 363.837, 363.8715, 363.87...</td>\n",
       "      <td>[362.982, 363.007, 363.0095, 363.012, 363.044,...</td>\n",
       "      <td>[364.649, 364.7625, 366.682]</td>\n",
       "      <td>[362.992, 364.178, 364.2645, 364.7445, 364.775...</td>\n",
       "      <td>[362.9945, 363.0085, 363.0435, 363.046, 363.08...</td>\n",
       "      <td>[]</td>\n",
       "      <td>[362.9845]</td>\n",
       "      <td>[363.757]</td>\n",
       "      <td>[]</td>\n",
       "    </tr>\n",
       "    <tr>\n",
       "      <th>1</th>\n",
       "      <td>367.4555</td>\n",
       "      <td>370.5080</td>\n",
       "      <td>[367.4885, 367.5125, 367.555, 367.602, 367.629...</td>\n",
       "      <td>[367.6645, 367.668, 367.6775, 367.9265, 368.11...</td>\n",
       "      <td>[367.4625, 367.479, 367.4835, 367.4965, 367.50...</td>\n",
       "      <td>[367.4565, 367.458, 367.4595, 367.4605, 367.46...</td>\n",
       "      <td>[368.382, 368.385, 368.388, 368.4295, 368.4325...</td>\n",
       "      <td>[368.3825, 368.3855, 368.4235]</td>\n",
       "      <td>[367.4555, 367.457, 367.458, 367.4585, 367.460...</td>\n",
       "      <td>[]</td>\n",
       "      <td>[369.3245, 369.341, 369.3535, 369.36, 369.3915]</td>\n",
       "      <td>[367.5195, 367.571, 367.5925, 367.6455, 367.67...</td>\n",
       "      <td>[]</td>\n",
       "      <td>[]</td>\n",
       "      <td>[368.3155]</td>\n",
       "      <td>[]</td>\n",
       "    </tr>\n",
       "    <tr>\n",
       "      <th>2</th>\n",
       "      <td>371.0595</td>\n",
       "      <td>374.5520</td>\n",
       "      <td>[371.0655, 371.076, 371.1145, 371.132, 371.197...</td>\n",
       "      <td>[371.1095, 371.1145, 371.6995, 371.8065, 372.0...</td>\n",
       "      <td>[371.0775, 371.098, 371.1005, 371.111, 371.114...</td>\n",
       "      <td>[371.0615, 371.0625, 371.0645, 371.065, 371.06...</td>\n",
       "      <td>[371.607, 371.613, 371.7115, 371.745, 371.786,...</td>\n",
       "      <td>[371.947, 372.0255, 372.029, 372.0315, 372.069...</td>\n",
       "      <td>[371.0875, 371.095, 371.1135, 371.119, 371.124...</td>\n",
       "      <td>[372.2135]</td>\n",
       "      <td>[372.1065, 372.136, 372.1845, 372.2025, 372.211]</td>\n",
       "      <td>[371.0595, 371.063, 371.0725, 371.073, 371.097...</td>\n",
       "      <td>[]</td>\n",
       "      <td>[]</td>\n",
       "      <td>[371.9655]</td>\n",
       "      <td>[]</td>\n",
       "    </tr>\n",
       "    <tr>\n",
       "      <th>3</th>\n",
       "      <td>375.0975</td>\n",
       "      <td>378.5905</td>\n",
       "      <td>[375.112, 375.1405, 375.223, 375.259, 375.3295...</td>\n",
       "      <td>[376.058, 376.063, 376.0665, 376.0685, 376.080...</td>\n",
       "      <td>[375.101, 375.109, 375.1135, 375.123, 375.127,...</td>\n",
       "      <td>[375.0975, 375.103, 375.1045, 375.1075, 375.10...</td>\n",
       "      <td>[375.1215, 375.138, 375.141, 375.1445, 375.158...</td>\n",
       "      <td>[375.142, 376.0665, 376.0695, 376.1185, 376.11...</td>\n",
       "      <td>[375.109, 375.1115, 375.128, 375.1295, 375.131...</td>\n",
       "      <td>[378.055, 378.3955]</td>\n",
       "      <td>[375.1135, 375.1215, 376.1175, 376.2, 376.232,...</td>\n",
       "      <td>[375.1325, 375.137, 375.146, 375.174, 375.191,...</td>\n",
       "      <td>[]</td>\n",
       "      <td>[]</td>\n",
       "      <td>[376.007]</td>\n",
       "      <td>[]</td>\n",
       "    </tr>\n",
       "    <tr>\n",
       "      <th>4</th>\n",
       "      <td>379.1320</td>\n",
       "      <td>383.3935</td>\n",
       "      <td>[379.137, 379.2205, 379.565, 379.579, 379.7045...</td>\n",
       "      <td>[379.37, 379.5865, 380.1685, 380.175, 380.2185...</td>\n",
       "      <td>[379.1405, 379.171, 379.1785, 379.179, 379.185...</td>\n",
       "      <td>[379.135, 379.137, 379.139, 379.1405, 379.1465...</td>\n",
       "      <td>[379.1445, 379.361, 380.0725, 380.1795, 380.18...</td>\n",
       "      <td>[380.483, 380.7145, 381.01, 381.0455, 381.066,...</td>\n",
       "      <td>[379.138, 379.1455, 379.153, 379.163, 379.167,...</td>\n",
       "      <td>[379.203, 379.2245, 380.474, 381.1125, 381.244...</td>\n",
       "      <td>[379.138, 379.1465, 379.193, 379.216, 380.7555...</td>\n",
       "      <td>[379.149, 379.1745, 379.18, 379.198, 379.2045,...</td>\n",
       "      <td>[383.1775]</td>\n",
       "      <td>[]</td>\n",
       "      <td>[380.115]</td>\n",
       "      <td>[]</td>\n",
       "    </tr>\n",
       "  </tbody>\n",
       "</table>\n",
       "</div>"
      ],
      "text/plain": [
       "      start       end                                             SPK09i  \\\n",
       "0  362.9720  366.9035  [363.019, 363.088, 363.0915, 363.0955, 363.113...   \n",
       "1  367.4555  370.5080  [367.4885, 367.5125, 367.555, 367.602, 367.629...   \n",
       "2  371.0595  374.5520  [371.0655, 371.076, 371.1145, 371.132, 371.197...   \n",
       "3  375.0975  378.5905  [375.112, 375.1405, 375.223, 375.259, 375.3295...   \n",
       "4  379.1320  383.3935  [379.137, 379.2205, 379.565, 379.579, 379.7045...   \n",
       "\n",
       "                                              SPK10i  \\\n",
       "0  [363.222, 363.3275, 363.4275, 363.523, 363.822...   \n",
       "1  [367.6645, 367.668, 367.6775, 367.9265, 368.11...   \n",
       "2  [371.1095, 371.1145, 371.6995, 371.8065, 372.0...   \n",
       "3  [376.058, 376.063, 376.0665, 376.0685, 376.080...   \n",
       "4  [379.37, 379.5865, 380.1685, 380.175, 380.2185...   \n",
       "\n",
       "                                              SPK11i  \\\n",
       "0  [362.973, 362.9765, 362.989, 362.995, 363.001,...   \n",
       "1  [367.4625, 367.479, 367.4835, 367.4965, 367.50...   \n",
       "2  [371.0775, 371.098, 371.1005, 371.111, 371.114...   \n",
       "3  [375.101, 375.109, 375.1135, 375.123, 375.127,...   \n",
       "4  [379.1405, 379.171, 379.1785, 379.179, 379.185...   \n",
       "\n",
       "                                              SPK12i  \\\n",
       "0  [362.972, 362.975, 362.9755, 362.979, 362.9895...   \n",
       "1  [367.4565, 367.458, 367.4595, 367.4605, 367.46...   \n",
       "2  [371.0615, 371.0625, 371.0645, 371.065, 371.06...   \n",
       "3  [375.0975, 375.103, 375.1045, 375.1075, 375.10...   \n",
       "4  [379.135, 379.137, 379.139, 379.1405, 379.1465...   \n",
       "\n",
       "                                              SPK13a  \\\n",
       "0  [363.8265, 363.8295, 363.833, 363.836, 363.871...   \n",
       "1  [368.382, 368.385, 368.388, 368.4295, 368.4325...   \n",
       "2  [371.607, 371.613, 371.7115, 371.745, 371.786,...   \n",
       "3  [375.1215, 375.138, 375.141, 375.1445, 375.158...   \n",
       "4  [379.1445, 379.361, 380.0725, 380.1795, 380.18...   \n",
       "\n",
       "                                              SPK13i  \\\n",
       "0  [363.8275, 363.8335, 363.837, 363.8715, 363.87...   \n",
       "1                     [368.3825, 368.3855, 368.4235]   \n",
       "2  [371.947, 372.0255, 372.029, 372.0315, 372.069...   \n",
       "3  [375.142, 376.0665, 376.0695, 376.1185, 376.11...   \n",
       "4  [380.483, 380.7145, 381.01, 381.0455, 381.066,...   \n",
       "\n",
       "                                              SPK14i  \\\n",
       "0  [362.982, 363.007, 363.0095, 363.012, 363.044,...   \n",
       "1  [367.4555, 367.457, 367.458, 367.4585, 367.460...   \n",
       "2  [371.0875, 371.095, 371.1135, 371.119, 371.124...   \n",
       "3  [375.109, 375.1115, 375.128, 375.1295, 375.131...   \n",
       "4  [379.138, 379.1455, 379.153, 379.163, 379.167,...   \n",
       "\n",
       "                                              SPK15a  \\\n",
       "0                       [364.649, 364.7625, 366.682]   \n",
       "1                                                 []   \n",
       "2                                         [372.2135]   \n",
       "3                                [378.055, 378.3955]   \n",
       "4  [379.203, 379.2245, 380.474, 381.1125, 381.244...   \n",
       "\n",
       "                                              SPK15i  \\\n",
       "0  [362.992, 364.178, 364.2645, 364.7445, 364.775...   \n",
       "1    [369.3245, 369.341, 369.3535, 369.36, 369.3915]   \n",
       "2   [372.1065, 372.136, 372.1845, 372.2025, 372.211]   \n",
       "3  [375.1135, 375.1215, 376.1175, 376.2, 376.232,...   \n",
       "4  [379.138, 379.1465, 379.193, 379.216, 380.7555...   \n",
       "\n",
       "                                              SPK16a      SPK16i Strobed00001  \\\n",
       "0  [362.9945, 363.0085, 363.0435, 363.046, 363.08...          []   [362.9845]   \n",
       "1  [367.5195, 367.571, 367.5925, 367.6455, 367.67...          []           []   \n",
       "2  [371.0595, 371.063, 371.0725, 371.073, 371.097...          []           []   \n",
       "3  [375.1325, 375.137, 375.146, 375.174, 375.191,...          []           []   \n",
       "4  [379.149, 379.1745, 379.18, 379.198, 379.2045,...  [383.1775]           []   \n",
       "\n",
       "  Strobed00040 Strobed00666  \n",
       "0    [363.757]           []  \n",
       "1   [368.3155]           []  \n",
       "2   [371.9655]           []  \n",
       "3    [376.007]           []  \n",
       "4    [380.115]           []  "
      ]
     },
     "execution_count": 12,
     "metadata": {},
     "output_type": "execute_result"
    }
   ],
   "source": [
    "catSearchaddStrobes = catSearchtrials.copy()\n",
    "af.addEventMarker( linArrayMat, catSearchaddStrobes, [ 1, 40, 666 ], 'catSearchPHYSIOLIntervals' )\n",
    "catSearchaddStrobes.head()"
   ]
  },
  {
   "cell_type": "code",
   "execution_count": 13,
   "id": "5b51f1cf",
   "metadata": {},
   "outputs": [],
   "source": [
    "# aligning neural data\n",
    "stimOn = 40 #define the eventmarker for stimulus onset\n",
    "catSearch_multi_DSalign = af.addStimOnset( catSearchaddStrobes, stimOn, 'SPK' )"
   ]
  },
  {
   "cell_type": "code",
   "execution_count": 14,
   "id": "a4e5408c",
   "metadata": {},
   "outputs": [
    {
     "name": "stdout",
     "output_type": "stream",
     "text": [
      "['stimOn_SPK09i', 'stimOn_SPK10i', 'stimOn_SPK11i', 'stimOn_SPK12i', 'stimOn_SPK13a', 'stimOn_SPK13i', 'stimOn_SPK14i', 'stimOn_SPK15a', 'stimOn_SPK15i', 'stimOn_SPK16a', 'stimOn_SPK16i']\n"
     ]
    }
   ],
   "source": [
    "stimOnCols = af.getDataTypeNames( catSearch_multi_DSalign, 'stimOn_' ).values.tolist()\n",
    "stimOnCols = [item for sublist in stimOnCols for item in sublist]\n",
    "print( stimOnCols )\n",
    "time_axis_limits_ms = [ -50, 150 ]"
   ]
  },
  {
   "cell_type": "code",
   "execution_count": 15,
   "id": "4d838dda",
   "metadata": {},
   "outputs": [],
   "source": [
    "#load behavioral .mat into python environment\n",
    "path = \"/home/bonzilla/Documents/ScienceLife/linArray/bhv_083018/\"\n",
    "bhv_file = \"180830_Peanut_CatSearch_Physiol_ML2_2018_8_30(1).mat\"\n",
    "#bhv_file = \"180830_Peanut_CatSearch_Physiol_ML2_2018_8_30(2).mat\"\n",
    "bhvPath = path + bhv_file \n",
    "bhvMat = loadmat( bhvPath )"
   ]
  },
  {
   "cell_type": "code",
   "execution_count": 16,
   "id": "547eb770",
   "metadata": {},
   "outputs": [
    {
     "name": "stdout",
     "output_type": "stream",
     "text": [
      "(351, 12)\n",
      "(150, 13)\n"
     ]
    }
   ],
   "source": [
    "BHV_df = af.catSearchPHYSIOL2pandasdf( bhvMat )\n",
    "BHV_plusEV = af.addMultiEventVariables( BHV_df, [ 1, 40, 666 ] )\n",
    "print( BHV_plusEV.shape )\n",
    "# select just the correct trials\n",
    "BHV_correct = BHV_plusEV[\n",
    "    BHV_plusEV['Trial_Error']==0].reset_index()\n",
    "print( BHV_correct.shape )"
   ]
  },
  {
   "cell_type": "code",
   "execution_count": 25,
   "id": "782c6293",
   "metadata": {},
   "outputs": [],
   "source": [
    "#merging neural & behavioral data \n",
    "column_list = [ 'AnalogEyeData', 'bhv_code1', 'bhv_code40', 'bhv_code666' ]\n",
    "mergedDS = af.mergeBehavioralColumn( \n",
    "    catSearch_multi_DSalign, BHV_correct, column_list )\n",
    "mergedDS = af.split_analog_eye( mergedDS, 'AnalogEyeData' )"
   ]
  },
  {
   "cell_type": "code",
   "execution_count": 43,
   "id": "20c53cdb",
   "metadata": {},
   "outputs": [],
   "source": [
    "def eyespike_stimOnAligned( df, channel, stimon_marker, time_axis_limits_ms, trial_start, trial_stop=-1 ):\n",
    "    \"\"\"\n",
    "    subplot X,Y analog eye-traces and smoothed spike histograms\n",
    "    for a given range of trials (trial_start, trial_stop):\n",
    "    plot1 = stimOn spikes align\n",
    "    plot2 = stimOn eye align\n",
    "    \"\"\"\n",
    "    fig, ax = plt.subplots(nrows=2, ncols=1, sharex=True, sharey=True, figsize=(6, 10))\n",
    "    \n",
    "    plt.subplot( 2,1,1 )\n",
    "    stimOn_label = 'stimOn_' + channel\n",
    "    af.channelGaussianSmoothed( df, stimOn_label, 10, time_axis_limits_ms )\n",
    "    \n",
    "    plt.subplot( 2,1,2 )\n",
    "    for idx,_ in enumerate( df['AnalogEyeData'][trial_start:trial_stop] ):\n",
    "        length = len( df['AnalogEyeData'][trial_start + idx] )\n",
    "        x =  np.arange( 0, length ) - df[stimon_marker][trial_start + idx][0]\n",
    "        plt.plot(x, df['X_eye'][trial_start + idx], label = \"trial 1 X\", color = 'red')\n",
    "        plt.plot(x, df['Y_eye'][trial_start + idx], label = \"trial 1 Y\", color = 'blue')\n",
    "        plt.axvline( x=0, color = 'black'  )\n",
    "        plt.title( 'stimuOn eyetrace' )\n",
    "    plt.xlim( time_axis_limits_ms ) \n",
    "    plt.ylabel('amplitude (DVA)')\n",
    "    \n",
    "    return fig"
   ]
  },
  {
   "cell_type": "code",
   "execution_count": 44,
   "id": "1fb1058b",
   "metadata": {},
   "outputs": [
    {
     "data": {
      "image/png": "[encoded data removed]",
      "text/plain": [
       "<Figure size 432x720 with 2 Axes>"
      ]
     },
     "metadata": {
      "needs_background": "light"
     },
     "output_type": "display_data"
    }
   ],
   "source": [
    "catSearch_stimOn_align = eyespike_stimOnAligned( mergedDS, 'SPK13i', 'bhv_code40', time_axis_limits_ms, 0  )\n",
    "plt.show( catSearch_stimOn_align )"
   ]
  },
  {
   "cell_type": "code",
   "execution_count": 23,
   "id": "d799dbeb",
   "metadata": {},
   "outputs": [],
   "source": []
  }
 ],
 "metadata": {
  "kernelspec": {
   "display_name": "Python 3",
   "language": "python",
   "name": "python3"
  },
  "language_info": {
   "codemirror_mode": {
    "name": "ipython",
    "version": 3
   },
   "file_extension": ".py",
   "mimetype": "text/x-python",
   "name": "python",
   "nbconvert_exporter": "python",
   "pygments_lexer": "ipython3",
   "version": "3.7.6"
  }
 },
 "nbformat": 4,
 "nbformat_minor": 5
}
